{
 "cells": [
  {
   "cell_type": "code",
   "execution_count": 2,
   "id": "d1af6fe1",
   "metadata": {},
   "outputs": [],
   "source": [
    "import pandas as pd\n",
    "import numpy as np\n",
    "import datetime as dt\n",
    "import matplotlib.pyplot as plt\n",
    "import yfinance as yf\n",
    "import seaborn as sns\n",
    "import warnings\n",
    "warnings.filterwarnings('ignore')"
   ]
  },
  {
   "cell_type": "code",
   "execution_count": 3,
   "id": "265ee2e6",
   "metadata": {},
   "outputs": [],
   "source": [
    "from sklearn.linear_model import LogisticRegression\n",
    "from sklearn import metrics"
   ]
  },
  {
   "cell_type": "code",
   "execution_count": 4,
   "id": "305ebfc7",
   "metadata": {},
   "outputs": [],
   "source": [
    "start1= dt.datetime(2017,2,2)\n",
    "end1= dt.datetime(2023,2,16)\n",
    "ticker1 = 'TATAMOTORS.NS'"
   ]
  },
  {
   "cell_type": "code",
   "execution_count": 5,
   "id": "d4d5ec4f",
   "metadata": {},
   "outputs": [],
   "source": [
    "def download_stock_data(ticker,start,end):\n",
    "    data= yf.download(ticker,start,end)\n",
    "    return data\n"
   ]
  },
  {
   "cell_type": "code",
   "execution_count": 6,
   "id": "c2c49b91",
   "metadata": {},
   "outputs": [
    {
     "name": "stdout",
     "output_type": "stream",
     "text": [
      "[*********************100%***********************]  1 of 1 completed\n"
     ]
    }
   ],
   "source": [
    "data=download_stock_data(ticker=ticker1,start=start1,end=end1)"
   ]
  },
  {
   "cell_type": "code",
   "execution_count": 7,
   "id": "a591c6ad",
   "metadata": {},
   "outputs": [
    {
     "data": {
      "text/html": [
       "<div>\n",
       "<style scoped>\n",
       "    .dataframe tbody tr th:only-of-type {\n",
       "        vertical-align: middle;\n",
       "    }\n",
       "\n",
       "    .dataframe tbody tr th {\n",
       "        vertical-align: top;\n",
       "    }\n",
       "\n",
       "    .dataframe thead th {\n",
       "        text-align: right;\n",
       "    }\n",
       "</style>\n",
       "<table border=\"1\" class=\"dataframe\">\n",
       "  <thead>\n",
       "    <tr style=\"text-align: right;\">\n",
       "      <th></th>\n",
       "      <th>Open</th>\n",
       "      <th>High</th>\n",
       "      <th>Low</th>\n",
       "      <th>Close</th>\n",
       "      <th>Adj Close</th>\n",
       "      <th>Volume</th>\n",
       "    </tr>\n",
       "    <tr>\n",
       "      <th>Date</th>\n",
       "      <th></th>\n",
       "      <th></th>\n",
       "      <th></th>\n",
       "      <th></th>\n",
       "      <th></th>\n",
       "      <th></th>\n",
       "    </tr>\n",
       "  </thead>\n",
       "  <tbody>\n",
       "    <tr>\n",
       "      <th>2017-02-02</th>\n",
       "      <td>537.599976</td>\n",
       "      <td>537.599976</td>\n",
       "      <td>526.799988</td>\n",
       "      <td>531.500000</td>\n",
       "      <td>531.500000</td>\n",
       "      <td>6579801</td>\n",
       "    </tr>\n",
       "    <tr>\n",
       "      <th>2017-02-03</th>\n",
       "      <td>531.900024</td>\n",
       "      <td>531.900024</td>\n",
       "      <td>519.500000</td>\n",
       "      <td>522.599976</td>\n",
       "      <td>522.599976</td>\n",
       "      <td>5298261</td>\n",
       "    </tr>\n",
       "    <tr>\n",
       "      <th>2017-02-06</th>\n",
       "      <td>527.900024</td>\n",
       "      <td>531.450012</td>\n",
       "      <td>523.200012</td>\n",
       "      <td>525.849976</td>\n",
       "      <td>525.849976</td>\n",
       "      <td>3642527</td>\n",
       "    </tr>\n",
       "    <tr>\n",
       "      <th>2017-02-07</th>\n",
       "      <td>524.799988</td>\n",
       "      <td>524.799988</td>\n",
       "      <td>502.000000</td>\n",
       "      <td>506.799988</td>\n",
       "      <td>506.799988</td>\n",
       "      <td>7987282</td>\n",
       "    </tr>\n",
       "    <tr>\n",
       "      <th>2017-02-08</th>\n",
       "      <td>512.349976</td>\n",
       "      <td>514.950012</td>\n",
       "      <td>506.299988</td>\n",
       "      <td>513.049988</td>\n",
       "      <td>513.049988</td>\n",
       "      <td>5975054</td>\n",
       "    </tr>\n",
       "    <tr>\n",
       "      <th>...</th>\n",
       "      <td>...</td>\n",
       "      <td>...</td>\n",
       "      <td>...</td>\n",
       "      <td>...</td>\n",
       "      <td>...</td>\n",
       "      <td>...</td>\n",
       "    </tr>\n",
       "    <tr>\n",
       "      <th>2023-02-09</th>\n",
       "      <td>440.000000</td>\n",
       "      <td>440.700012</td>\n",
       "      <td>433.549988</td>\n",
       "      <td>436.750000</td>\n",
       "      <td>436.750000</td>\n",
       "      <td>7349418</td>\n",
       "    </tr>\n",
       "    <tr>\n",
       "      <th>2023-02-10</th>\n",
       "      <td>437.950012</td>\n",
       "      <td>447.799988</td>\n",
       "      <td>431.200012</td>\n",
       "      <td>445.850006</td>\n",
       "      <td>445.850006</td>\n",
       "      <td>14798390</td>\n",
       "    </tr>\n",
       "    <tr>\n",
       "      <th>2023-02-13</th>\n",
       "      <td>445.500000</td>\n",
       "      <td>446.899994</td>\n",
       "      <td>438.899994</td>\n",
       "      <td>441.049988</td>\n",
       "      <td>441.049988</td>\n",
       "      <td>8333767</td>\n",
       "    </tr>\n",
       "    <tr>\n",
       "      <th>2023-02-14</th>\n",
       "      <td>442.000000</td>\n",
       "      <td>444.299988</td>\n",
       "      <td>434.399994</td>\n",
       "      <td>440.549988</td>\n",
       "      <td>440.549988</td>\n",
       "      <td>8565559</td>\n",
       "    </tr>\n",
       "    <tr>\n",
       "      <th>2023-02-15</th>\n",
       "      <td>438.500000</td>\n",
       "      <td>444.899994</td>\n",
       "      <td>438.149994</td>\n",
       "      <td>444.149994</td>\n",
       "      <td>444.149994</td>\n",
       "      <td>9857016</td>\n",
       "    </tr>\n",
       "  </tbody>\n",
       "</table>\n",
       "<p>1494 rows × 6 columns</p>\n",
       "</div>"
      ],
      "text/plain": [
       "                  Open        High         Low       Close   Adj Close  \\\n",
       "Date                                                                     \n",
       "2017-02-02  537.599976  537.599976  526.799988  531.500000  531.500000   \n",
       "2017-02-03  531.900024  531.900024  519.500000  522.599976  522.599976   \n",
       "2017-02-06  527.900024  531.450012  523.200012  525.849976  525.849976   \n",
       "2017-02-07  524.799988  524.799988  502.000000  506.799988  506.799988   \n",
       "2017-02-08  512.349976  514.950012  506.299988  513.049988  513.049988   \n",
       "...                ...         ...         ...         ...         ...   \n",
       "2023-02-09  440.000000  440.700012  433.549988  436.750000  436.750000   \n",
       "2023-02-10  437.950012  447.799988  431.200012  445.850006  445.850006   \n",
       "2023-02-13  445.500000  446.899994  438.899994  441.049988  441.049988   \n",
       "2023-02-14  442.000000  444.299988  434.399994  440.549988  440.549988   \n",
       "2023-02-15  438.500000  444.899994  438.149994  444.149994  444.149994   \n",
       "\n",
       "              Volume  \n",
       "Date                  \n",
       "2017-02-02   6579801  \n",
       "2017-02-03   5298261  \n",
       "2017-02-06   3642527  \n",
       "2017-02-07   7987282  \n",
       "2017-02-08   5975054  \n",
       "...              ...  \n",
       "2023-02-09   7349418  \n",
       "2023-02-10  14798390  \n",
       "2023-02-13   8333767  \n",
       "2023-02-14   8565559  \n",
       "2023-02-15   9857016  \n",
       "\n",
       "[1494 rows x 6 columns]"
      ]
     },
     "execution_count": 7,
     "metadata": {},
     "output_type": "execute_result"
    }
   ],
   "source": [
    "data"
   ]
  },
  {
   "cell_type": "code",
   "execution_count": 8,
   "id": "ff84741d",
   "metadata": {},
   "outputs": [
    {
     "data": {
      "text/plain": [
       "(1494, 6)"
      ]
     },
     "execution_count": 8,
     "metadata": {},
     "output_type": "execute_result"
    }
   ],
   "source": [
    "data.shape"
   ]
  },
  {
   "cell_type": "code",
   "execution_count": 9,
   "id": "bf418d0f",
   "metadata": {},
   "outputs": [
    {
     "data": {
      "text/html": [
       "<div>\n",
       "<style scoped>\n",
       "    .dataframe tbody tr th:only-of-type {\n",
       "        vertical-align: middle;\n",
       "    }\n",
       "\n",
       "    .dataframe tbody tr th {\n",
       "        vertical-align: top;\n",
       "    }\n",
       "\n",
       "    .dataframe thead th {\n",
       "        text-align: right;\n",
       "    }\n",
       "</style>\n",
       "<table border=\"1\" class=\"dataframe\">\n",
       "  <thead>\n",
       "    <tr style=\"text-align: right;\">\n",
       "      <th></th>\n",
       "      <th>Open</th>\n",
       "      <th>High</th>\n",
       "      <th>Low</th>\n",
       "      <th>Close</th>\n",
       "      <th>Adj Close</th>\n",
       "      <th>Volume</th>\n",
       "    </tr>\n",
       "  </thead>\n",
       "  <tbody>\n",
       "    <tr>\n",
       "      <th>Open</th>\n",
       "      <td>1.000000</td>\n",
       "      <td>0.999404</td>\n",
       "      <td>0.999319</td>\n",
       "      <td>0.998792</td>\n",
       "      <td>0.998792</td>\n",
       "      <td>-0.408145</td>\n",
       "    </tr>\n",
       "    <tr>\n",
       "      <th>High</th>\n",
       "      <td>0.999404</td>\n",
       "      <td>1.000000</td>\n",
       "      <td>0.999208</td>\n",
       "      <td>0.999535</td>\n",
       "      <td>0.999535</td>\n",
       "      <td>-0.393777</td>\n",
       "    </tr>\n",
       "    <tr>\n",
       "      <th>Low</th>\n",
       "      <td>0.999319</td>\n",
       "      <td>0.999208</td>\n",
       "      <td>1.000000</td>\n",
       "      <td>0.999479</td>\n",
       "      <td>0.999479</td>\n",
       "      <td>-0.413874</td>\n",
       "    </tr>\n",
       "    <tr>\n",
       "      <th>Close</th>\n",
       "      <td>0.998792</td>\n",
       "      <td>0.999535</td>\n",
       "      <td>0.999479</td>\n",
       "      <td>1.000000</td>\n",
       "      <td>1.000000</td>\n",
       "      <td>-0.400959</td>\n",
       "    </tr>\n",
       "    <tr>\n",
       "      <th>Adj Close</th>\n",
       "      <td>0.998792</td>\n",
       "      <td>0.999535</td>\n",
       "      <td>0.999479</td>\n",
       "      <td>1.000000</td>\n",
       "      <td>1.000000</td>\n",
       "      <td>-0.400959</td>\n",
       "    </tr>\n",
       "    <tr>\n",
       "      <th>Volume</th>\n",
       "      <td>-0.408145</td>\n",
       "      <td>-0.393777</td>\n",
       "      <td>-0.413874</td>\n",
       "      <td>-0.400959</td>\n",
       "      <td>-0.400959</td>\n",
       "      <td>1.000000</td>\n",
       "    </tr>\n",
       "  </tbody>\n",
       "</table>\n",
       "</div>"
      ],
      "text/plain": [
       "               Open      High       Low     Close  Adj Close    Volume\n",
       "Open       1.000000  0.999404  0.999319  0.998792   0.998792 -0.408145\n",
       "High       0.999404  1.000000  0.999208  0.999535   0.999535 -0.393777\n",
       "Low        0.999319  0.999208  1.000000  0.999479   0.999479 -0.413874\n",
       "Close      0.998792  0.999535  0.999479  1.000000   1.000000 -0.400959\n",
       "Adj Close  0.998792  0.999535  0.999479  1.000000   1.000000 -0.400959\n",
       "Volume    -0.408145 -0.393777 -0.413874 -0.400959  -0.400959  1.000000"
      ]
     },
     "execution_count": 9,
     "metadata": {},
     "output_type": "execute_result"
    }
   ],
   "source": [
    "data.corr()"
   ]
  },
  {
   "cell_type": "code",
   "execution_count": 10,
   "id": "da186874",
   "metadata": {},
   "outputs": [
    {
     "name": "stdout",
     "output_type": "stream",
     "text": [
      "<class 'pandas.core.frame.DataFrame'>\n",
      "DatetimeIndex: 1494 entries, 2017-02-02 to 2023-02-15\n",
      "Data columns (total 6 columns):\n",
      " #   Column     Non-Null Count  Dtype  \n",
      "---  ------     --------------  -----  \n",
      " 0   Open       1494 non-null   float64\n",
      " 1   High       1494 non-null   float64\n",
      " 2   Low        1494 non-null   float64\n",
      " 3   Close      1494 non-null   float64\n",
      " 4   Adj Close  1494 non-null   float64\n",
      " 5   Volume     1494 non-null   int64  \n",
      "dtypes: float64(5), int64(1)\n",
      "memory usage: 81.7 KB\n"
     ]
    }
   ],
   "source": [
    "data.info()"
   ]
  },
  {
   "cell_type": "code",
   "execution_count": 11,
   "id": "d3ca2db5",
   "metadata": {},
   "outputs": [
    {
     "data": {
      "text/plain": [
       "<seaborn.axisgrid.PairGrid at 0x7fcb1a805ee0>"
      ]
     },
     "execution_count": 11,
     "metadata": {},
     "output_type": "execute_result"
    },
    {
     "data": {
      "image/png": "[encoded data removed]",
      "text/plain": [
       "<Figure size 540x540 with 12 Axes>"
      ]
     },
     "metadata": {
      "needs_background": "light"
     },
     "output_type": "display_data"
    }
   ],
   "source": [
    "sns.pairplot(data[['Open','Close','Volume']])"
   ]
  },
  {
   "cell_type": "code",
   "execution_count": 12,
   "id": "dc201502",
   "metadata": {},
   "outputs": [
    {
     "data": {
      "text/plain": [
       "<AxesSubplot:xlabel='Date', ylabel='Close'>"
      ]
     },
     "execution_count": 12,
     "metadata": {},
     "output_type": "execute_result"
    },
    {
     "data": {
      "image/png": "[encoded data removed]",
      "text/plain": [
       "<Figure size 432x288 with 1 Axes>"
      ]
     },
     "metadata": {
      "needs_background": "light"
     },
     "output_type": "display_data"
    }
   ],
   "source": [
    "sns.barplot(x = data.index , y=data['Close'])"
   ]
  },
  {
   "cell_type": "code",
   "execution_count": 13,
   "id": "487f3144",
   "metadata": {},
   "outputs": [],
   "source": [
    "# variables\n",
    "data['returns']= np.log(data['Close']/data['Close'].shift(1)) #daily returns"
   ]
  },
  {
   "cell_type": "code",
   "execution_count": 14,
   "id": "0a498534",
   "metadata": {},
   "outputs": [],
   "source": [
    "data['target']= np.where(data['returns'].shift(-1)>0,1,-1)"
   ]
  },
  {
   "cell_type": "code",
   "execution_count": 15,
   "id": "c6e78eb3",
   "metadata": {},
   "outputs": [
    {
     "data": {
      "text/html": [
       "<div>\n",
       "<style scoped>\n",
       "    .dataframe tbody tr th:only-of-type {\n",
       "        vertical-align: middle;\n",
       "    }\n",
       "\n",
       "    .dataframe tbody tr th {\n",
       "        vertical-align: top;\n",
       "    }\n",
       "\n",
       "    .dataframe thead th {\n",
       "        text-align: right;\n",
       "    }\n",
       "</style>\n",
       "<table border=\"1\" class=\"dataframe\">\n",
       "  <thead>\n",
       "    <tr style=\"text-align: right;\">\n",
       "      <th></th>\n",
       "      <th>Open</th>\n",
       "      <th>High</th>\n",
       "      <th>Low</th>\n",
       "      <th>Close</th>\n",
       "      <th>Adj Close</th>\n",
       "      <th>Volume</th>\n",
       "      <th>returns</th>\n",
       "      <th>target</th>\n",
       "    </tr>\n",
       "    <tr>\n",
       "      <th>Date</th>\n",
       "      <th></th>\n",
       "      <th></th>\n",
       "      <th></th>\n",
       "      <th></th>\n",
       "      <th></th>\n",
       "      <th></th>\n",
       "      <th></th>\n",
       "      <th></th>\n",
       "    </tr>\n",
       "  </thead>\n",
       "  <tbody>\n",
       "    <tr>\n",
       "      <th>2017-02-02</th>\n",
       "      <td>537.599976</td>\n",
       "      <td>537.599976</td>\n",
       "      <td>526.799988</td>\n",
       "      <td>531.500000</td>\n",
       "      <td>531.500000</td>\n",
       "      <td>6579801</td>\n",
       "      <td>NaN</td>\n",
       "      <td>-1</td>\n",
       "    </tr>\n",
       "    <tr>\n",
       "      <th>2017-02-03</th>\n",
       "      <td>531.900024</td>\n",
       "      <td>531.900024</td>\n",
       "      <td>519.500000</td>\n",
       "      <td>522.599976</td>\n",
       "      <td>522.599976</td>\n",
       "      <td>5298261</td>\n",
       "      <td>-0.016887</td>\n",
       "      <td>1</td>\n",
       "    </tr>\n",
       "    <tr>\n",
       "      <th>2017-02-06</th>\n",
       "      <td>527.900024</td>\n",
       "      <td>531.450012</td>\n",
       "      <td>523.200012</td>\n",
       "      <td>525.849976</td>\n",
       "      <td>525.849976</td>\n",
       "      <td>3642527</td>\n",
       "      <td>0.006200</td>\n",
       "      <td>-1</td>\n",
       "    </tr>\n",
       "    <tr>\n",
       "      <th>2017-02-07</th>\n",
       "      <td>524.799988</td>\n",
       "      <td>524.799988</td>\n",
       "      <td>502.000000</td>\n",
       "      <td>506.799988</td>\n",
       "      <td>506.799988</td>\n",
       "      <td>7987282</td>\n",
       "      <td>-0.036900</td>\n",
       "      <td>1</td>\n",
       "    </tr>\n",
       "    <tr>\n",
       "      <th>2017-02-08</th>\n",
       "      <td>512.349976</td>\n",
       "      <td>514.950012</td>\n",
       "      <td>506.299988</td>\n",
       "      <td>513.049988</td>\n",
       "      <td>513.049988</td>\n",
       "      <td>5975054</td>\n",
       "      <td>0.012257</td>\n",
       "      <td>-1</td>\n",
       "    </tr>\n",
       "    <tr>\n",
       "      <th>...</th>\n",
       "      <td>...</td>\n",
       "      <td>...</td>\n",
       "      <td>...</td>\n",
       "      <td>...</td>\n",
       "      <td>...</td>\n",
       "      <td>...</td>\n",
       "      <td>...</td>\n",
       "      <td>...</td>\n",
       "    </tr>\n",
       "    <tr>\n",
       "      <th>2023-02-09</th>\n",
       "      <td>440.000000</td>\n",
       "      <td>440.700012</td>\n",
       "      <td>433.549988</td>\n",
       "      <td>436.750000</td>\n",
       "      <td>436.750000</td>\n",
       "      <td>7349418</td>\n",
       "      <td>-0.007641</td>\n",
       "      <td>1</td>\n",
       "    </tr>\n",
       "    <tr>\n",
       "      <th>2023-02-10</th>\n",
       "      <td>437.950012</td>\n",
       "      <td>447.799988</td>\n",
       "      <td>431.200012</td>\n",
       "      <td>445.850006</td>\n",
       "      <td>445.850006</td>\n",
       "      <td>14798390</td>\n",
       "      <td>0.020622</td>\n",
       "      <td>-1</td>\n",
       "    </tr>\n",
       "    <tr>\n",
       "      <th>2023-02-13</th>\n",
       "      <td>445.500000</td>\n",
       "      <td>446.899994</td>\n",
       "      <td>438.899994</td>\n",
       "      <td>441.049988</td>\n",
       "      <td>441.049988</td>\n",
       "      <td>8333767</td>\n",
       "      <td>-0.010824</td>\n",
       "      <td>-1</td>\n",
       "    </tr>\n",
       "    <tr>\n",
       "      <th>2023-02-14</th>\n",
       "      <td>442.000000</td>\n",
       "      <td>444.299988</td>\n",
       "      <td>434.399994</td>\n",
       "      <td>440.549988</td>\n",
       "      <td>440.549988</td>\n",
       "      <td>8565559</td>\n",
       "      <td>-0.001134</td>\n",
       "      <td>1</td>\n",
       "    </tr>\n",
       "    <tr>\n",
       "      <th>2023-02-15</th>\n",
       "      <td>438.500000</td>\n",
       "      <td>444.899994</td>\n",
       "      <td>438.149994</td>\n",
       "      <td>444.149994</td>\n",
       "      <td>444.149994</td>\n",
       "      <td>9857016</td>\n",
       "      <td>0.008138</td>\n",
       "      <td>-1</td>\n",
       "    </tr>\n",
       "  </tbody>\n",
       "</table>\n",
       "<p>1494 rows × 8 columns</p>\n",
       "</div>"
      ],
      "text/plain": [
       "                  Open        High         Low       Close   Adj Close  \\\n",
       "Date                                                                     \n",
       "2017-02-02  537.599976  537.599976  526.799988  531.500000  531.500000   \n",
       "2017-02-03  531.900024  531.900024  519.500000  522.599976  522.599976   \n",
       "2017-02-06  527.900024  531.450012  523.200012  525.849976  525.849976   \n",
       "2017-02-07  524.799988  524.799988  502.000000  506.799988  506.799988   \n",
       "2017-02-08  512.349976  514.950012  506.299988  513.049988  513.049988   \n",
       "...                ...         ...         ...         ...         ...   \n",
       "2023-02-09  440.000000  440.700012  433.549988  436.750000  436.750000   \n",
       "2023-02-10  437.950012  447.799988  431.200012  445.850006  445.850006   \n",
       "2023-02-13  445.500000  446.899994  438.899994  441.049988  441.049988   \n",
       "2023-02-14  442.000000  444.299988  434.399994  440.549988  440.549988   \n",
       "2023-02-15  438.500000  444.899994  438.149994  444.149994  444.149994   \n",
       "\n",
       "              Volume   returns  target  \n",
       "Date                                    \n",
       "2017-02-02   6579801       NaN      -1  \n",
       "2017-02-03   5298261 -0.016887       1  \n",
       "2017-02-06   3642527  0.006200      -1  \n",
       "2017-02-07   7987282 -0.036900       1  \n",
       "2017-02-08   5975054  0.012257      -1  \n",
       "...              ...       ...     ...  \n",
       "2023-02-09   7349418 -0.007641       1  \n",
       "2023-02-10  14798390  0.020622      -1  \n",
       "2023-02-13   8333767 -0.010824      -1  \n",
       "2023-02-14   8565559 -0.001134       1  \n",
       "2023-02-15   9857016  0.008138      -1  \n",
       "\n",
       "[1494 rows x 8 columns]"
      ]
     },
     "execution_count": 15,
     "metadata": {},
     "output_type": "execute_result"
    }
   ],
   "source": [
    "data"
   ]
  },
  {
   "cell_type": "code",
   "execution_count": 16,
   "id": "376d2901",
   "metadata": {},
   "outputs": [
    {
     "data": {
      "text/plain": [
       "-1    753\n",
       " 1    741\n",
       "Name: target, dtype: int64"
      ]
     },
     "execution_count": 16,
     "metadata": {},
     "output_type": "execute_result"
    }
   ],
   "source": [
    "data['target'].value_counts()"
   ]
  },
  {
   "cell_type": "code",
   "execution_count": 17,
   "id": "cb6cf42e",
   "metadata": {},
   "outputs": [],
   "source": [
    "#creating std columns \n",
    "for i in range(5,20,5):\n",
    "    col_name= 'std_'+ str(i)\n",
    "    data[col_name]= data['Close'].rolling(window=i).std()"
   ]
  },
  {
   "cell_type": "code",
   "execution_count": 18,
   "id": "d2a22aef",
   "metadata": {},
   "outputs": [],
   "source": [
    "# creating ma columns\n",
    "for i in range (10,30,5):\n",
    "    col_name= 'ma_' + str(i)\n",
    "    data[col_name]= data['Close'].rolling(window=i).mean()"
   ]
  },
  {
   "cell_type": "code",
   "execution_count": 19,
   "id": "b74c96f6",
   "metadata": {},
   "outputs": [],
   "source": [
    "for i in range (3,12,3):\n",
    "    col_name = 'pct_' + str(i)\n",
    "    data[col_name]= data['Close'].pct_change().rolling(i).sum()"
   ]
  },
  {
   "cell_type": "code",
   "execution_count": 20,
   "id": "9f9aaa39",
   "metadata": {},
   "outputs": [],
   "source": [
    "col_name= 'vma_4'\n",
    "data[col_name]= data['Volume'].rolling(window= 4).mean()"
   ]
  },
  {
   "cell_type": "code",
   "execution_count": 21,
   "id": "26a01183",
   "metadata": {},
   "outputs": [],
   "source": [
    "#feature based on intraday movemnt \n",
    "col_name = 'IM'\n",
    "data[col_name]= data['Close']- data['Open']"
   ]
  },
  {
   "cell_type": "code",
   "execution_count": 22,
   "id": "6c3b94ee",
   "metadata": {},
   "outputs": [
    {
     "data": {
      "text/html": [
       "<div>\n",
       "<style scoped>\n",
       "    .dataframe tbody tr th:only-of-type {\n",
       "        vertical-align: middle;\n",
       "    }\n",
       "\n",
       "    .dataframe tbody tr th {\n",
       "        vertical-align: top;\n",
       "    }\n",
       "\n",
       "    .dataframe thead th {\n",
       "        text-align: right;\n",
       "    }\n",
       "</style>\n",
       "<table border=\"1\" class=\"dataframe\">\n",
       "  <thead>\n",
       "    <tr style=\"text-align: right;\">\n",
       "      <th></th>\n",
       "      <th>Open</th>\n",
       "      <th>High</th>\n",
       "      <th>Low</th>\n",
       "      <th>Close</th>\n",
       "      <th>Adj Close</th>\n",
       "      <th>Volume</th>\n",
       "      <th>returns</th>\n",
       "      <th>target</th>\n",
       "      <th>std_5</th>\n",
       "      <th>std_10</th>\n",
       "      <th>std_15</th>\n",
       "      <th>ma_10</th>\n",
       "      <th>ma_15</th>\n",
       "      <th>ma_20</th>\n",
       "      <th>ma_25</th>\n",
       "      <th>pct_3</th>\n",
       "      <th>pct_6</th>\n",
       "      <th>pct_9</th>\n",
       "      <th>vma_4</th>\n",
       "      <th>IM</th>\n",
       "    </tr>\n",
       "    <tr>\n",
       "      <th>Date</th>\n",
       "      <th></th>\n",
       "      <th></th>\n",
       "      <th></th>\n",
       "      <th></th>\n",
       "      <th></th>\n",
       "      <th></th>\n",
       "      <th></th>\n",
       "      <th></th>\n",
       "      <th></th>\n",
       "      <th></th>\n",
       "      <th></th>\n",
       "      <th></th>\n",
       "      <th></th>\n",
       "      <th></th>\n",
       "      <th></th>\n",
       "      <th></th>\n",
       "      <th></th>\n",
       "      <th></th>\n",
       "      <th></th>\n",
       "      <th></th>\n",
       "    </tr>\n",
       "  </thead>\n",
       "  <tbody>\n",
       "    <tr>\n",
       "      <th>2017-02-02</th>\n",
       "      <td>537.599976</td>\n",
       "      <td>537.599976</td>\n",
       "      <td>526.799988</td>\n",
       "      <td>531.500000</td>\n",
       "      <td>531.500000</td>\n",
       "      <td>6579801</td>\n",
       "      <td>NaN</td>\n",
       "      <td>-1</td>\n",
       "      <td>NaN</td>\n",
       "      <td>NaN</td>\n",
       "      <td>NaN</td>\n",
       "      <td>NaN</td>\n",
       "      <td>NaN</td>\n",
       "      <td>NaN</td>\n",
       "      <td>NaN</td>\n",
       "      <td>NaN</td>\n",
       "      <td>NaN</td>\n",
       "      <td>NaN</td>\n",
       "      <td>NaN</td>\n",
       "      <td>-6.099976</td>\n",
       "    </tr>\n",
       "    <tr>\n",
       "      <th>2017-02-03</th>\n",
       "      <td>531.900024</td>\n",
       "      <td>531.900024</td>\n",
       "      <td>519.500000</td>\n",
       "      <td>522.599976</td>\n",
       "      <td>522.599976</td>\n",
       "      <td>5298261</td>\n",
       "      <td>-0.016887</td>\n",
       "      <td>1</td>\n",
       "      <td>NaN</td>\n",
       "      <td>NaN</td>\n",
       "      <td>NaN</td>\n",
       "      <td>NaN</td>\n",
       "      <td>NaN</td>\n",
       "      <td>NaN</td>\n",
       "      <td>NaN</td>\n",
       "      <td>NaN</td>\n",
       "      <td>NaN</td>\n",
       "      <td>NaN</td>\n",
       "      <td>NaN</td>\n",
       "      <td>-9.300049</td>\n",
       "    </tr>\n",
       "    <tr>\n",
       "      <th>2017-02-06</th>\n",
       "      <td>527.900024</td>\n",
       "      <td>531.450012</td>\n",
       "      <td>523.200012</td>\n",
       "      <td>525.849976</td>\n",
       "      <td>525.849976</td>\n",
       "      <td>3642527</td>\n",
       "      <td>0.006200</td>\n",
       "      <td>-1</td>\n",
       "      <td>NaN</td>\n",
       "      <td>NaN</td>\n",
       "      <td>NaN</td>\n",
       "      <td>NaN</td>\n",
       "      <td>NaN</td>\n",
       "      <td>NaN</td>\n",
       "      <td>NaN</td>\n",
       "      <td>NaN</td>\n",
       "      <td>NaN</td>\n",
       "      <td>NaN</td>\n",
       "      <td>NaN</td>\n",
       "      <td>-2.050049</td>\n",
       "    </tr>\n",
       "    <tr>\n",
       "      <th>2017-02-07</th>\n",
       "      <td>524.799988</td>\n",
       "      <td>524.799988</td>\n",
       "      <td>502.000000</td>\n",
       "      <td>506.799988</td>\n",
       "      <td>506.799988</td>\n",
       "      <td>7987282</td>\n",
       "      <td>-0.036900</td>\n",
       "      <td>1</td>\n",
       "      <td>NaN</td>\n",
       "      <td>NaN</td>\n",
       "      <td>NaN</td>\n",
       "      <td>NaN</td>\n",
       "      <td>NaN</td>\n",
       "      <td>NaN</td>\n",
       "      <td>NaN</td>\n",
       "      <td>-0.046753</td>\n",
       "      <td>NaN</td>\n",
       "      <td>NaN</td>\n",
       "      <td>5876967.75</td>\n",
       "      <td>-18.000000</td>\n",
       "    </tr>\n",
       "    <tr>\n",
       "      <th>2017-02-08</th>\n",
       "      <td>512.349976</td>\n",
       "      <td>514.950012</td>\n",
       "      <td>506.299988</td>\n",
       "      <td>513.049988</td>\n",
       "      <td>513.049988</td>\n",
       "      <td>5975054</td>\n",
       "      <td>0.012257</td>\n",
       "      <td>-1</td>\n",
       "      <td>9.946948</td>\n",
       "      <td>NaN</td>\n",
       "      <td>NaN</td>\n",
       "      <td>NaN</td>\n",
       "      <td>NaN</td>\n",
       "      <td>NaN</td>\n",
       "      <td>NaN</td>\n",
       "      <td>-0.017676</td>\n",
       "      <td>NaN</td>\n",
       "      <td>NaN</td>\n",
       "      <td>5725781.00</td>\n",
       "      <td>0.700012</td>\n",
       "    </tr>\n",
       "  </tbody>\n",
       "</table>\n",
       "</div>"
      ],
      "text/plain": [
       "                  Open        High         Low       Close   Adj Close  \\\n",
       "Date                                                                     \n",
       "2017-02-02  537.599976  537.599976  526.799988  531.500000  531.500000   \n",
       "2017-02-03  531.900024  531.900024  519.500000  522.599976  522.599976   \n",
       "2017-02-06  527.900024  531.450012  523.200012  525.849976  525.849976   \n",
       "2017-02-07  524.799988  524.799988  502.000000  506.799988  506.799988   \n",
       "2017-02-08  512.349976  514.950012  506.299988  513.049988  513.049988   \n",
       "\n",
       "             Volume   returns  target     std_5  std_10  std_15  ma_10  ma_15  \\\n",
       "Date                                                                            \n",
       "2017-02-02  6579801       NaN      -1       NaN     NaN     NaN    NaN    NaN   \n",
       "2017-02-03  5298261 -0.016887       1       NaN     NaN     NaN    NaN    NaN   \n",
       "2017-02-06  3642527  0.006200      -1       NaN     NaN     NaN    NaN    NaN   \n",
       "2017-02-07  7987282 -0.036900       1       NaN     NaN     NaN    NaN    NaN   \n",
       "2017-02-08  5975054  0.012257      -1  9.946948     NaN     NaN    NaN    NaN   \n",
       "\n",
       "            ma_20  ma_25     pct_3  pct_6  pct_9       vma_4         IM  \n",
       "Date                                                                     \n",
       "2017-02-02    NaN    NaN       NaN    NaN    NaN         NaN  -6.099976  \n",
       "2017-02-03    NaN    NaN       NaN    NaN    NaN         NaN  -9.300049  \n",
       "2017-02-06    NaN    NaN       NaN    NaN    NaN         NaN  -2.050049  \n",
       "2017-02-07    NaN    NaN -0.046753    NaN    NaN  5876967.75 -18.000000  \n",
       "2017-02-08    NaN    NaN -0.017676    NaN    NaN  5725781.00   0.700012  "
      ]
     },
     "execution_count": 22,
     "metadata": {},
     "output_type": "execute_result"
    }
   ],
   "source": [
    "data.head()"
   ]
  },
  {
   "cell_type": "code",
   "execution_count": 23,
   "id": "eb430fea",
   "metadata": {},
   "outputs": [
    {
     "data": {
      "text/plain": [
       "(1494, 20)"
      ]
     },
     "execution_count": 23,
     "metadata": {},
     "output_type": "execute_result"
    }
   ],
   "source": [
    "data.shape"
   ]
  },
  {
   "cell_type": "code",
   "execution_count": 24,
   "id": "dd8cd932",
   "metadata": {},
   "outputs": [
    {
     "name": "stdout",
     "output_type": "stream",
     "text": [
      "<class 'pandas.core.frame.DataFrame'>\n",
      "DatetimeIndex: 1494 entries, 2017-02-02 to 2023-02-15\n",
      "Data columns (total 20 columns):\n",
      " #   Column     Non-Null Count  Dtype  \n",
      "---  ------     --------------  -----  \n",
      " 0   Open       1494 non-null   float64\n",
      " 1   High       1494 non-null   float64\n",
      " 2   Low        1494 non-null   float64\n",
      " 3   Close      1494 non-null   float64\n",
      " 4   Adj Close  1494 non-null   float64\n",
      " 5   Volume     1494 non-null   int64  \n",
      " 6   returns    1493 non-null   float64\n",
      " 7   target     1494 non-null   int64  \n",
      " 8   std_5      1490 non-null   float64\n",
      " 9   std_10     1485 non-null   float64\n",
      " 10  std_15     1480 non-null   float64\n",
      " 11  ma_10      1485 non-null   float64\n",
      " 12  ma_15      1480 non-null   float64\n",
      " 13  ma_20      1475 non-null   float64\n",
      " 14  ma_25      1470 non-null   float64\n",
      " 15  pct_3      1491 non-null   float64\n",
      " 16  pct_6      1488 non-null   float64\n",
      " 17  pct_9      1485 non-null   float64\n",
      " 18  vma_4      1491 non-null   float64\n",
      " 19  IM         1494 non-null   float64\n",
      "dtypes: float64(18), int64(2)\n",
      "memory usage: 277.4 KB\n"
     ]
    }
   ],
   "source": [
    "data.info()"
   ]
  },
  {
   "cell_type": "code",
   "execution_count": 25,
   "id": "a2e5b53f",
   "metadata": {},
   "outputs": [],
   "source": [
    "data.dropna(inplace=True)"
   ]
  },
  {
   "cell_type": "code",
   "execution_count": null,
   "id": "62182ebe",
   "metadata": {},
   "outputs": [],
   "source": []
  },
  {
   "cell_type": "code",
   "execution_count": 26,
   "id": "0dd5f5a2",
   "metadata": {},
   "outputs": [],
   "source": [
    "from sklearn.model_selection import train_test_split"
   ]
  },
  {
   "cell_type": "code",
   "execution_count": null,
   "id": "323ca658",
   "metadata": {},
   "outputs": [],
   "source": [
    " "
   ]
  },
  {
   "cell_type": "code",
   "execution_count": null,
   "id": "80c4adcb",
   "metadata": {},
   "outputs": [],
   "source": []
  },
  {
   "cell_type": "code",
   "execution_count": 27,
   "id": "20457347",
   "metadata": {},
   "outputs": [
    {
     "data": {
      "text/plain": [
       "Date\n",
       "2017-03-09    1\n",
       "2017-03-10    1\n",
       "2017-03-14    1\n",
       "2017-03-15    1\n",
       "2017-03-16   -1\n",
       "             ..\n",
       "2023-02-09    1\n",
       "2023-02-10   -1\n",
       "2023-02-13   -1\n",
       "2023-02-14    1\n",
       "2023-02-15   -1\n",
       "Name: target, Length: 1470, dtype: int64"
      ]
     },
     "execution_count": 27,
     "metadata": {},
     "output_type": "execute_result"
    }
   ],
   "source": [
    "data['target']"
   ]
  },
  {
   "cell_type": "code",
   "execution_count": 28,
   "id": "f1ff4463",
   "metadata": {},
   "outputs": [
    {
     "data": {
      "text/plain": [
       "(1470, 20)"
      ]
     },
     "execution_count": 28,
     "metadata": {},
     "output_type": "execute_result"
    }
   ],
   "source": [
    "data.shape"
   ]
  },
  {
   "cell_type": "code",
   "execution_count": 51,
   "id": "d4c02db5",
   "metadata": {},
   "outputs": [
    {
     "data": {
      "text/html": [
       "<div>\n",
       "<style scoped>\n",
       "    .dataframe tbody tr th:only-of-type {\n",
       "        vertical-align: middle;\n",
       "    }\n",
       "\n",
       "    .dataframe tbody tr th {\n",
       "        vertical-align: top;\n",
       "    }\n",
       "\n",
       "    .dataframe thead th {\n",
       "        text-align: right;\n",
       "    }\n",
       "</style>\n",
       "<table border=\"1\" class=\"dataframe\">\n",
       "  <thead>\n",
       "    <tr style=\"text-align: right;\">\n",
       "      <th></th>\n",
       "      <th>Open</th>\n",
       "      <th>High</th>\n",
       "      <th>Low</th>\n",
       "      <th>Close</th>\n",
       "      <th>Adj Close</th>\n",
       "      <th>Volume</th>\n",
       "      <th>returns</th>\n",
       "      <th>target</th>\n",
       "      <th>std_5</th>\n",
       "      <th>std_10</th>\n",
       "      <th>std_15</th>\n",
       "      <th>ma_10</th>\n",
       "      <th>ma_15</th>\n",
       "      <th>ma_20</th>\n",
       "      <th>ma_25</th>\n",
       "      <th>pct_3</th>\n",
       "      <th>pct_6</th>\n",
       "      <th>pct_9</th>\n",
       "      <th>vma_4</th>\n",
       "      <th>IM</th>\n",
       "    </tr>\n",
       "    <tr>\n",
       "      <th>Date</th>\n",
       "      <th></th>\n",
       "      <th></th>\n",
       "      <th></th>\n",
       "      <th></th>\n",
       "      <th></th>\n",
       "      <th></th>\n",
       "      <th></th>\n",
       "      <th></th>\n",
       "      <th></th>\n",
       "      <th></th>\n",
       "      <th></th>\n",
       "      <th></th>\n",
       "      <th></th>\n",
       "      <th></th>\n",
       "      <th></th>\n",
       "      <th></th>\n",
       "      <th></th>\n",
       "      <th></th>\n",
       "      <th></th>\n",
       "      <th></th>\n",
       "    </tr>\n",
       "  </thead>\n",
       "  <tbody>\n",
       "    <tr>\n",
       "      <th>2017-03-09</th>\n",
       "      <td>462.450012</td>\n",
       "      <td>469.700012</td>\n",
       "      <td>462.000000</td>\n",
       "      <td>467.600006</td>\n",
       "      <td>467.600006</td>\n",
       "      <td>3837624</td>\n",
       "      <td>0.010318</td>\n",
       "      <td>1</td>\n",
       "      <td>4.315866</td>\n",
       "      <td>6.203097</td>\n",
       "      <td>6.738607</td>\n",
       "      <td>461.675000</td>\n",
       "      <td>459.323334</td>\n",
       "      <td>466.802498</td>\n",
       "      <td>477.433995</td>\n",
       "      <td>-0.006691</td>\n",
       "      <td>0.040364</td>\n",
       "      <td>0.012247</td>\n",
       "      <td>5085013.25</td>\n",
       "      <td>5.149994</td>\n",
       "    </tr>\n",
       "    <tr>\n",
       "      <th>2017-03-10</th>\n",
       "      <td>471.000000</td>\n",
       "      <td>471.850006</td>\n",
       "      <td>465.100006</td>\n",
       "      <td>469.100006</td>\n",
       "      <td>469.100006</td>\n",
       "      <td>5766815</td>\n",
       "      <td>0.003203</td>\n",
       "      <td>1</td>\n",
       "      <td>2.980271</td>\n",
       "      <td>6.636804</td>\n",
       "      <td>6.084063</td>\n",
       "      <td>462.350000</td>\n",
       "      <td>460.863334</td>\n",
       "      <td>464.614999</td>\n",
       "      <td>474.937996</td>\n",
       "      <td>0.003420</td>\n",
       "      <td>0.016316</td>\n",
       "      <td>0.025296</td>\n",
       "      <td>5517644.25</td>\n",
       "      <td>-1.899994</td>\n",
       "    </tr>\n",
       "    <tr>\n",
       "      <th>2017-03-14</th>\n",
       "      <td>481.000000</td>\n",
       "      <td>483.000000</td>\n",
       "      <td>468.450012</td>\n",
       "      <td>469.750000</td>\n",
       "      <td>469.750000</td>\n",
       "      <td>6348198</td>\n",
       "      <td>0.001385</td>\n",
       "      <td>1</td>\n",
       "      <td>2.721541</td>\n",
       "      <td>6.800340</td>\n",
       "      <td>6.069583</td>\n",
       "      <td>463.545001</td>\n",
       "      <td>461.983333</td>\n",
       "      <td>462.625000</td>\n",
       "      <td>472.823997</td>\n",
       "      <td>0.014965</td>\n",
       "      <td>0.021492</td>\n",
       "      <td>0.028975</td>\n",
       "      <td>5326058.50</td>\n",
       "      <td>-11.250000</td>\n",
       "    </tr>\n",
       "    <tr>\n",
       "      <th>2017-03-15</th>\n",
       "      <td>475.000000</td>\n",
       "      <td>476.549988</td>\n",
       "      <td>470.649994</td>\n",
       "      <td>473.450012</td>\n",
       "      <td>473.450012</td>\n",
       "      <td>4801312</td>\n",
       "      <td>0.007846</td>\n",
       "      <td>1</td>\n",
       "      <td>3.863847</td>\n",
       "      <td>6.994043</td>\n",
       "      <td>6.452897</td>\n",
       "      <td>465.215002</td>\n",
       "      <td>463.183333</td>\n",
       "      <td>461.032501</td>\n",
       "      <td>470.727998</td>\n",
       "      <td>0.012470</td>\n",
       "      <td>0.005779</td>\n",
       "      <td>0.052834</td>\n",
       "      <td>5188487.25</td>\n",
       "      <td>-1.549988</td>\n",
       "    </tr>\n",
       "    <tr>\n",
       "      <th>2017-03-16</th>\n",
       "      <td>478.700012</td>\n",
       "      <td>482.000000</td>\n",
       "      <td>476.149994</td>\n",
       "      <td>480.950012</td>\n",
       "      <td>480.950012</td>\n",
       "      <td>6272947</td>\n",
       "      <td>0.015717</td>\n",
       "      <td>-1</td>\n",
       "      <td>5.359411</td>\n",
       "      <td>6.147090</td>\n",
       "      <td>7.768569</td>\n",
       "      <td>468.365002</td>\n",
       "      <td>464.670001</td>\n",
       "      <td>460.977502</td>\n",
       "      <td>469.693999</td>\n",
       "      <td>0.025103</td>\n",
       "      <td>0.028524</td>\n",
       "      <td>0.041420</td>\n",
       "      <td>5797318.00</td>\n",
       "      <td>2.250000</td>\n",
       "    </tr>\n",
       "  </tbody>\n",
       "</table>\n",
       "</div>"
      ],
      "text/plain": [
       "                  Open        High         Low       Close   Adj Close  \\\n",
       "Date                                                                     \n",
       "2017-03-09  462.450012  469.700012  462.000000  467.600006  467.600006   \n",
       "2017-03-10  471.000000  471.850006  465.100006  469.100006  469.100006   \n",
       "2017-03-14  481.000000  483.000000  468.450012  469.750000  469.750000   \n",
       "2017-03-15  475.000000  476.549988  470.649994  473.450012  473.450012   \n",
       "2017-03-16  478.700012  482.000000  476.149994  480.950012  480.950012   \n",
       "\n",
       "             Volume   returns  target     std_5    std_10    std_15  \\\n",
       "Date                                                                  \n",
       "2017-03-09  3837624  0.010318       1  4.315866  6.203097  6.738607   \n",
       "2017-03-10  5766815  0.003203       1  2.980271  6.636804  6.084063   \n",
       "2017-03-14  6348198  0.001385       1  2.721541  6.800340  6.069583   \n",
       "2017-03-15  4801312  0.007846       1  3.863847  6.994043  6.452897   \n",
       "2017-03-16  6272947  0.015717      -1  5.359411  6.147090  7.768569   \n",
       "\n",
       "                 ma_10       ma_15       ma_20       ma_25     pct_3  \\\n",
       "Date                                                                   \n",
       "2017-03-09  461.675000  459.323334  466.802498  477.433995 -0.006691   \n",
       "2017-03-10  462.350000  460.863334  464.614999  474.937996  0.003420   \n",
       "2017-03-14  463.545001  461.983333  462.625000  472.823997  0.014965   \n",
       "2017-03-15  465.215002  463.183333  461.032501  470.727998  0.012470   \n",
       "2017-03-16  468.365002  464.670001  460.977502  469.693999  0.025103   \n",
       "\n",
       "               pct_6     pct_9       vma_4         IM  \n",
       "Date                                                   \n",
       "2017-03-09  0.040364  0.012247  5085013.25   5.149994  \n",
       "2017-03-10  0.016316  0.025296  5517644.25  -1.899994  \n",
       "2017-03-14  0.021492  0.028975  5326058.50 -11.250000  \n",
       "2017-03-15  0.005779  0.052834  5188487.25  -1.549988  \n",
       "2017-03-16  0.028524  0.041420  5797318.00   2.250000  "
      ]
     },
     "execution_count": 51,
     "metadata": {},
     "output_type": "execute_result"
    }
   ],
   "source": [
    "data.head()"
   ]
  },
  {
   "cell_type": "code",
   "execution_count": 64,
   "id": "b643214b",
   "metadata": {},
   "outputs": [],
   "source": [
    "X = data[['std_5', 'std_10', 'std_15', 'ma_10', 'ma_25', 'vma_4', 'IM']]\n",
    "Y = data['target']\n"
   ]
  },
  {
   "cell_type": "code",
   "execution_count": 65,
   "id": "9648c791",
   "metadata": {},
   "outputs": [],
   "source": [
    "splitting_ratio = .80\n",
    "split = int(splitting_ratio * len(data))"
   ]
  },
  {
   "cell_type": "code",
   "execution_count": 66,
   "id": "3ae95568",
   "metadata": {},
   "outputs": [],
   "source": [
    "#traininig dataset\n",
    "X_train = X[:split]\n",
    "Y_train = Y[:split]\n"
   ]
  },
  {
   "cell_type": "code",
   "execution_count": 67,
   "id": "dc35e907",
   "metadata": {},
   "outputs": [],
   "source": [
    "#testing dataset\n",
    "X_test = X[split:]\n",
    "Y_test = Y[split:]"
   ]
  },
  {
   "cell_type": "code",
   "execution_count": 68,
   "id": "c7bcabb1",
   "metadata": {},
   "outputs": [
    {
     "data": {
      "text/plain": [
       "((1176, 7), (294, 7), (1176,), (294,))"
      ]
     },
     "execution_count": 68,
     "metadata": {},
     "output_type": "execute_result"
    }
   ],
   "source": [
    "X_train.shape,X_test.shape,Y_train.shape,Y_test.shape# hence we got a correct split"
   ]
  },
  {
   "cell_type": "code",
   "execution_count": 69,
   "id": "7b73dca3",
   "metadata": {},
   "outputs": [
    {
     "data": {
      "text/html": [
       "<div>\n",
       "<style scoped>\n",
       "    .dataframe tbody tr th:only-of-type {\n",
       "        vertical-align: middle;\n",
       "    }\n",
       "\n",
       "    .dataframe tbody tr th {\n",
       "        vertical-align: top;\n",
       "    }\n",
       "\n",
       "    .dataframe thead th {\n",
       "        text-align: right;\n",
       "    }\n",
       "</style>\n",
       "<table border=\"1\" class=\"dataframe\">\n",
       "  <thead>\n",
       "    <tr style=\"text-align: right;\">\n",
       "      <th></th>\n",
       "      <th>std_5</th>\n",
       "      <th>std_10</th>\n",
       "      <th>std_15</th>\n",
       "      <th>ma_10</th>\n",
       "      <th>ma_25</th>\n",
       "      <th>vma_4</th>\n",
       "      <th>IM</th>\n",
       "    </tr>\n",
       "  </thead>\n",
       "  <tbody>\n",
       "    <tr>\n",
       "      <th>count</th>\n",
       "      <td>1470.000000</td>\n",
       "      <td>1470.000000</td>\n",
       "      <td>1470.000000</td>\n",
       "      <td>1470.000000</td>\n",
       "      <td>1470.000000</td>\n",
       "      <td>1.470000e+03</td>\n",
       "      <td>1470.000000</td>\n",
       "    </tr>\n",
       "    <tr>\n",
       "      <th>mean</th>\n",
       "      <td>6.276213</td>\n",
       "      <td>8.902000</td>\n",
       "      <td>10.951809</td>\n",
       "      <td>298.226752</td>\n",
       "      <td>298.397401</td>\n",
       "      <td>3.249980e+07</td>\n",
       "      <td>-0.751190</td>\n",
       "    </tr>\n",
       "    <tr>\n",
       "      <th>std</th>\n",
       "      <td>4.821044</td>\n",
       "      <td>6.107856</td>\n",
       "      <td>7.334643</td>\n",
       "      <td>130.891964</td>\n",
       "      <td>130.399836</td>\n",
       "      <td>3.142865e+07</td>\n",
       "      <td>6.503836</td>\n",
       "    </tr>\n",
       "    <tr>\n",
       "      <th>min</th>\n",
       "      <td>0.578143</td>\n",
       "      <td>1.614423</td>\n",
       "      <td>1.859263</td>\n",
       "      <td>68.620000</td>\n",
       "      <td>72.356000</td>\n",
       "      <td>3.053525e+06</td>\n",
       "      <td>-32.399994</td>\n",
       "    </tr>\n",
       "    <tr>\n",
       "      <th>25%</th>\n",
       "      <td>3.158338</td>\n",
       "      <td>5.237794</td>\n",
       "      <td>6.418251</td>\n",
       "      <td>173.191250</td>\n",
       "      <td>173.529999</td>\n",
       "      <td>1.168762e+07</td>\n",
       "      <td>-4.100006</td>\n",
       "    </tr>\n",
       "    <tr>\n",
       "      <th>50%</th>\n",
       "      <td>5.052376</td>\n",
       "      <td>7.551312</td>\n",
       "      <td>9.446023</td>\n",
       "      <td>305.817500</td>\n",
       "      <td>307.156000</td>\n",
       "      <td>2.025059e+07</td>\n",
       "      <td>-0.850006</td>\n",
       "    </tr>\n",
       "    <tr>\n",
       "      <th>75%</th>\n",
       "      <td>7.907783</td>\n",
       "      <td>11.072877</td>\n",
       "      <td>13.124535</td>\n",
       "      <td>424.605003</td>\n",
       "      <td>421.421000</td>\n",
       "      <td>4.473875e+07</td>\n",
       "      <td>2.350006</td>\n",
       "    </tr>\n",
       "    <tr>\n",
       "      <th>max</th>\n",
       "      <td>54.514161</td>\n",
       "      <td>69.284022</td>\n",
       "      <td>73.040694</td>\n",
       "      <td>510.829999</td>\n",
       "      <td>503.522000</td>\n",
       "      <td>2.422788e+08</td>\n",
       "      <td>44.000000</td>\n",
       "    </tr>\n",
       "  </tbody>\n",
       "</table>\n",
       "</div>"
      ],
      "text/plain": [
       "             std_5       std_10       std_15        ma_10        ma_25  \\\n",
       "count  1470.000000  1470.000000  1470.000000  1470.000000  1470.000000   \n",
       "mean      6.276213     8.902000    10.951809   298.226752   298.397401   \n",
       "std       4.821044     6.107856     7.334643   130.891964   130.399836   \n",
       "min       0.578143     1.614423     1.859263    68.620000    72.356000   \n",
       "25%       3.158338     5.237794     6.418251   173.191250   173.529999   \n",
       "50%       5.052376     7.551312     9.446023   305.817500   307.156000   \n",
       "75%       7.907783    11.072877    13.124535   424.605003   421.421000   \n",
       "max      54.514161    69.284022    73.040694   510.829999   503.522000   \n",
       "\n",
       "              vma_4           IM  \n",
       "count  1.470000e+03  1470.000000  \n",
       "mean   3.249980e+07    -0.751190  \n",
       "std    3.142865e+07     6.503836  \n",
       "min    3.053525e+06   -32.399994  \n",
       "25%    1.168762e+07    -4.100006  \n",
       "50%    2.025059e+07    -0.850006  \n",
       "75%    4.473875e+07     2.350006  \n",
       "max    2.422788e+08    44.000000  "
      ]
     },
     "execution_count": 69,
     "metadata": {},
     "output_type": "execute_result"
    }
   ],
   "source": [
    "X.describe()"
   ]
  },
  {
   "cell_type": "code",
   "execution_count": 70,
   "id": "d7798fc6",
   "metadata": {},
   "outputs": [],
   "source": [
    "from sklearn.preprocessing import StandardScaler"
   ]
  },
  {
   "cell_type": "code",
   "execution_count": 71,
   "id": "56a8aed5",
   "metadata": {},
   "outputs": [],
   "source": [
    "scaler = StandardScaler()"
   ]
  },
  {
   "cell_type": "code",
   "execution_count": 72,
   "id": "39fca10b",
   "metadata": {},
   "outputs": [],
   "source": [
    "X_train_scaled = scaler.fit_transform(X_train)\n",
    "X_test_scaled = scaler.fit_transform(X_test)"
   ]
  },
  {
   "cell_type": "code",
   "execution_count": 73,
   "id": "3cb2af72",
   "metadata": {},
   "outputs": [],
   "source": [
    "#train logistic regression model\n",
    "model = LogisticRegression(C=1, penalty='l2')"
   ]
  },
  {
   "cell_type": "code",
   "execution_count": 74,
   "id": "001f6392",
   "metadata": {},
   "outputs": [
    {
     "data": {
      "text/plain": [
       "LogisticRegression(C=1)"
      ]
     },
     "execution_count": 74,
     "metadata": {},
     "output_type": "execute_result"
    }
   ],
   "source": [
    "model.fit(X_train_scaled,Y_train)"
   ]
  },
  {
   "cell_type": "code",
   "execution_count": 75,
   "id": "489ce68c",
   "metadata": {},
   "outputs": [
    {
     "name": "stdout",
     "output_type": "stream",
     "text": [
      "model accuracy on training data : 0.5348639455782312\n"
     ]
    }
   ],
   "source": [
    "print('model accuracy on training data :',model.score(X_train_scaled,Y_train))"
   ]
  },
  {
   "cell_type": "code",
   "execution_count": null,
   "id": "45abb171",
   "metadata": {},
   "outputs": [],
   "source": []
  },
  {
   "cell_type": "code",
   "execution_count": 45,
   "id": "8319e567",
   "metadata": {},
   "outputs": [
    {
     "name": "stdout",
     "output_type": "stream",
     "text": [
      "Best hyperparameters: {'C': 1, 'penalty': 'l2'}\n",
      "Accuracy score: 0.46680851063829787\n"
     ]
    }
   ],
   "source": [
    "from sklearn.model_selection import GridSearchCV\n",
    "\n",
    "\n",
    "param_grid = {\n",
    "    'C': [0.01, 0.1, 1, 10],\n",
    "    'penalty': ['l1', 'l2']\n",
    "}\n",
    "\n",
    "\n",
    "grid_search = GridSearchCV(model, param_grid, cv=5)\n",
    "\n",
    "\n",
    "grid_search.fit(X_train_scaled, Y_train)\n",
    "\n",
    "\n",
    "print(\"Best hyperparameters:\", grid_search.best_params_)\n",
    "print(\"Accuracy score:\", grid_search.best_score_)\n"
   ]
  },
  {
   "cell_type": "code",
   "execution_count": 49,
   "id": "9ecd5658",
   "metadata": {},
   "outputs": [
    {
     "name": "stdout",
     "output_type": "stream",
     "text": [
      "Selected features by RFE: ['std_10', 'std_15', 'ma_10', 'vma_4', 'IM']\n",
      "Selected features by SelectFromModel: ['std_5', 'std_10', 'std_15', 'ma_10', 'ma_25', 'vma_4', 'IM']\n"
     ]
    }
   ],
   "source": [
    "from sklearn.feature_selection import RFE, SelectFromModel\n",
    "\n",
    "# RFE method\n",
    "rfe_selector = RFE(estimator=LogisticRegression(), n_features_to_select=5, step=1)\n",
    "rfe_selector.fit(X_train_scaled, Y_train)\n",
    "rfe_support = rfe_selector.get_support()\n",
    "rfe_features = X.columns[rfe_support].tolist()\n",
    "print('Selected features by RFE:', rfe_features)\n",
    "\n",
    "# SelectFromModel method\n",
    "sfm_selector = SelectFromModel(estimator=LogisticRegression(), threshold='median')\n",
    "sfm_selector.fit(X_train_scaled, Y_train)\n",
    "sfm_support = sfm_selector.get_support()\n",
    "sfm_features = X.columns[sfm_support].tolist()\n",
    "print('Selected features by SelectFromModel:', sfm_features)"
   ]
  },
  {
   "cell_type": "code",
   "execution_count": 76,
   "id": "b2051acd",
   "metadata": {},
   "outputs": [],
   "source": [
    "from sklearn.ensemble import RandomForestClassifier\n",
    "from sklearn.metrics import accuracy_score"
   ]
  },
  {
   "cell_type": "code",
   "execution_count": 77,
   "id": "dee07f62",
   "metadata": {},
   "outputs": [
    {
     "name": "stdout",
     "output_type": "stream",
     "text": [
      "Accuracy of Random Forest on test set: 0.5306122448979592\n"
     ]
    }
   ],
   "source": [
    "\n",
    "rf_model = RandomForestClassifier(n_estimators=100, random_state=42)\n",
    "\n",
    "\n",
    "rf_model.fit(X_train_scaled, Y_train)\n",
    "\n",
    "\n",
    "y_pred = rf_model.predict(X_test_scaled)\n",
    "\n",
    "\n",
    "accuracy = accuracy_score(Y_test, y_pred)\n",
    "print('Accuracy of Random Forest on test set:', accuracy)"
   ]
  },
  {
   "cell_type": "code",
   "execution_count": null,
   "id": "5c559828",
   "metadata": {},
   "outputs": [],
   "source": []
  },
  {
   "cell_type": "code",
   "execution_count": null,
   "id": "a1efb65f",
   "metadata": {},
   "outputs": [],
   "source": []
  }
 ],
 "metadata": {
  "kernelspec": {
   "display_name": "Python 3 (ipykernel)",
   "language": "python",
   "name": "python3"
  },
  "language_info": {
   "codemirror_mode": {
    "name": "ipython",
    "version": 3
   },
   "file_extension": ".py",
   "mimetype": "text/x-python",
   "name": "python",
   "nbconvert_exporter": "python",
   "pygments_lexer": "ipython3",
   "version": "3.9.12"
  }
 },
 "nbformat": 4,
 "nbformat_minor": 5
}
