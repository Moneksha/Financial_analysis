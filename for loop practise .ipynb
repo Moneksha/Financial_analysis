{
 "cells": [
  {
   "cell_type": "markdown",
   "id": "d7fd217c",
   "metadata": {},
   "source": [
    "#FOR LOOPS \n",
    "Write a for loop that iterates through a list of integers and prints out the square of each integer.\n"
   ]
  },
  {
   "cell_type": "code",
   "execution_count": 4,
   "id": "572d8824",
   "metadata": {},
   "outputs": [
    {
     "name": "stdout",
     "output_type": "stream",
     "text": [
      "1\n",
      "4\n",
      "9\n",
      "16\n",
      "25\n"
     ]
    }
   ],
   "source": [
    "a = [1,2,3,4,5]\n",
    "for i in  a:\n",
    "    print(i**2)"
   ]
  },
  {
   "cell_type": "markdown",
   "id": "b82e85d3",
   "metadata": {},
   "source": [
    "#Write a for loop that iterates through a string and prints out each character on a separate line."
   ]
  },
  {
   "cell_type": "code",
   "execution_count": 5,
   "id": "24ce550f",
   "metadata": {},
   "outputs": [
    {
     "name": "stdout",
     "output_type": "stream",
     "text": [
      "M\n",
      "o\n",
      "n\n",
      "e\n",
      "k\n",
      "s\n",
      "h\n",
      "a\n",
      " \n",
      "V\n",
      "i\n",
      "k\n",
      "a\n",
      "s\n",
      " \n",
      "D\n",
      "a\n",
      "n\n",
      "g\n",
      "a\n",
      "t\n"
     ]
    }
   ],
   "source": [
    "name = 'Moneksha Vikas Dangat'\n",
    "for char in name:\n",
    "    print(char)\n",
    "    "
   ]
  },
  {
   "cell_type": "markdown",
   "id": "d17b0129",
   "metadata": {},
   "source": [
    "#Write a for loop that iterates through a dictionary and prints out each key-value pair on a separate line.\n"
   ]
  },
  {
   "cell_type": "code",
   "execution_count": 8,
   "id": "4d190f9e",
   "metadata": {},
   "outputs": [
    {
     "name": "stdout",
     "output_type": "stream",
     "text": [
      "symbol : aapl\n",
      "price : 123\n",
      "company : AppleINC\n",
      "product : ['MAC', 'IPOD', 'Iwatch', 'IPHONE']\n"
     ]
    }
   ],
   "source": [
    "ticker = {'symbol':'aapl','price':'123','company':'AppleINC','product':['MAC','IPOD','Iwatch','IPHONE']}\n",
    "for key,values in ticker.items():\n",
    "    print(key,':',values)"
   ]
  },
  {
   "cell_type": "markdown",
   "id": "c53b2e7b",
   "metadata": {},
   "source": [
    "#Write a for loop that iterates through a list of strings and prints out only the strings that contain the letter 'e'."
   ]
  },
  {
   "cell_type": "code",
   "execution_count": 18,
   "id": "37c8f261",
   "metadata": {},
   "outputs": [
    {
     "name": "stdout",
     "output_type": "stream",
     "text": [
      "e\n",
      "e\n",
      "e\n"
     ]
    }
   ],
   "source": [
    "string = ['m','s','e','e','ad','ad','q','r','e']\n",
    "for char in string:\n",
    "    if 'e' in char:\n",
    "    \n",
    "      print(char)"
   ]
  },
  {
   "cell_type": "markdown",
   "id": "ed6b7a03",
   "metadata": {},
   "source": [
    "#Write a for loop that iterates through a list of numbers and adds up only the even numbers.\n"
   ]
  },
  {
   "cell_type": "code",
   "execution_count": 20,
   "id": "40139ac7",
   "metadata": {},
   "outputs": [
    {
     "name": "stdout",
     "output_type": "stream",
     "text": [
      "the sum of number in the list is  88\n"
     ]
    }
   ],
   "source": [
    "number = [1,2,4,5,6,7,8,34,63,34]\n",
    "sum_num = 0\n",
    "for num in number:\n",
    "    if num%2 == 0:\n",
    "        sum_num+=num\n",
    "\n",
    "print('the sum of number in the list is ',sum_num)"
   ]
  },
  {
   "cell_type": "markdown",
   "id": "09d9ad4e",
   "metadata": {},
   "source": [
    "#Write a for loop that iterates through a list of numbers and prints out the index of each number.\n"
   ]
  },
  {
   "cell_type": "code",
   "execution_count": 27,
   "id": "bb0bbed2",
   "metadata": {},
   "outputs": [
    {
     "name": "stdout",
     "output_type": "stream",
     "text": [
      "index of  1 in the list is  0\n",
      "index of  2 in the list is  1\n",
      "index of  4 in the list is  2\n",
      "index of  5 in the list is  3\n",
      "index of  6 in the list is  4\n",
      "index of  7 in the list is  5\n",
      "index of  8 in the list is  6\n",
      "index of  34 in the list is  7\n",
      "index of  63 in the list is  8\n",
      "index of  90 in the list is  9\n"
     ]
    }
   ],
   "source": [
    "number = [1,2,4,5,6,7,8,34,63,90]\n",
    "index = 0\n",
    "for num in number:\n",
    "    print(\"index of \",num ,\"in the list is \",number.index(num))\n",
    "    index+=1"
   ]
  },
  {
   "cell_type": "markdown",
   "id": "292fe773",
   "metadata": {},
   "source": [
    "#Write a for loop that iterates through a range of numbers and prints out only the numbers that are divisible by 3.\n"
   ]
  },
  {
   "cell_type": "code",
   "execution_count": 33,
   "id": "0bfd17fb",
   "metadata": {},
   "outputs": [
    {
     "name": "stdout",
     "output_type": "stream",
     "text": [
      "0\n",
      "3\n",
      "6\n",
      "9\n",
      "12\n",
      "15\n",
      "18\n",
      "21\n",
      "24\n",
      "27\n",
      "30\n"
     ]
    }
   ],
   "source": [
    "for i in range (0,31):\n",
    "    if i % 3 == 0:\n",
    "         print(i)"
   ]
  },
  {
   "cell_type": "markdown",
   "id": "c7a00d30",
   "metadata": {},
   "source": [
    "#Write a for loop that iterates through a list of names and prints out a greeting for each name."
   ]
  },
  {
   "cell_type": "code",
   "execution_count": 34,
   "id": "0b810881",
   "metadata": {},
   "outputs": [
    {
     "name": "stdout",
     "output_type": "stream",
     "text": [
      "hello: mon\n",
      "hello: mayu\n",
      "hello: abhi\n",
      "hello: ram\n",
      "hello: leen\n",
      "hello: neha\n"
     ]
    }
   ],
   "source": [
    "names = ['mon','mayu','abhi','ram','leen','neha']\n",
    "for char in names:\n",
    "    print(\"hello:\",char)"
   ]
  },
  {
   "cell_type": "markdown",
   "id": "deb99c15",
   "metadata": {},
   "source": [
    "\n",
    "Write a for loop that iterates through a list of numbers and finds the smallest number."
   ]
  },
  {
   "cell_type": "code",
   "execution_count": 37,
   "id": "c5c8be5b",
   "metadata": {},
   "outputs": [
    {
     "name": "stdout",
     "output_type": "stream",
     "text": [
      "the smallest number is : 1\n"
     ]
    }
   ],
   "source": [
    "numbers = [12,23,234,23,345,11,3,4,5]\n",
    "small = number[0]\n",
    "for i in numbers:\n",
    "    if i < small:\n",
    "        small = i\n",
    "print('the smallest number is :',small)\n",
    "    "
   ]
  },
  {
   "cell_type": "code",
   "execution_count": 38,
   "id": "8fc218ae",
   "metadata": {},
   "outputs": [
    {
     "name": "stdout",
     "output_type": "stream",
     "text": [
      "The smallest number is: 3\n"
     ]
    }
   ],
   "source": [
    "numbers = [12, 23, 234, 23, 345, 11, 3, 4, 5]\n",
    "small = numbers[0]  # initialize small to be the first number in the list\n",
    "\n",
    "for i in numbers:\n",
    "    if i < small:\n",
    "        small = i\n",
    "\n",
    "print('The smallest number is:', small)"
   ]
  },
  {
   "cell_type": "markdown",
   "id": "b3982852",
   "metadata": {},
   "source": [
    "Write a for loop that iterates through a list of strings and concatenates them into a single string.\n",
    "\n"
   ]
  },
  {
   "cell_type": "code",
   "execution_count": 40,
   "id": "9a54303c",
   "metadata": {},
   "outputs": [
    {
     "name": "stdout",
     "output_type": "stream",
     "text": [
      "moneksh\n",
      "monekshvikas\n",
      "monekshvikasdangat\n"
     ]
    }
   ],
   "source": [
    "list = ['moneksh','vikas','dangat']\n",
    "result=''\n",
    "for i in list:\n",
    "    result+=i\n",
    "    print(result)"
   ]
  },
  {
   "cell_type": "code",
   "execution_count": null,
   "id": "1996a994",
   "metadata": {},
   "outputs": [],
   "source": []
  }
 ],
 "metadata": {
  "kernelspec": {
   "display_name": "Python 3 (ipykernel)",
   "language": "python",
   "name": "python3"
  },
  "language_info": {
   "codemirror_mode": {
    "name": "ipython",
    "version": 3
   },
   "file_extension": ".py",
   "mimetype": "text/x-python",
   "name": "python",
   "nbconvert_exporter": "python",
   "pygments_lexer": "ipython3",
   "version": "3.9.12"
  }
 },
 "nbformat": 4,
 "nbformat_minor": 5
}
