{
 "cells": [
  {
   "cell_type": "code",
   "execution_count": 1,
   "id": "742483f8",
   "metadata": {},
   "outputs": [],
   "source": [
    "import pandas as pd\n",
    "import numpy as np\n",
    "import datetime as dt\n",
    "import matplotlib.pyplot as plt\n",
    "%matplotlib notebook\n",
    "import yfinance as yf\n",
    "import datetime as dt\n",
    "\n"
   ]
  },
  {
   "cell_type": "code",
   "execution_count": 2,
   "id": "242e9960",
   "metadata": {},
   "outputs": [],
   "source": [
    "#first things first import data from as csv file "
   ]
  },
  {
   "cell_type": "code",
   "execution_count": 19,
   "id": "d70b554d",
   "metadata": {},
   "outputs": [],
   "source": [
    "hdfc=pd.read_csv('/Users/dmoneksh/Downloads/HDFCBANK.NS.csv',index_col=0,parse_dates=True)\n",
    "#this will help to read the csv file from ur system"
   ]
  },
  {
   "cell_type": "code",
   "execution_count": 20,
   "id": "d773cf30",
   "metadata": {},
   "outputs": [
    {
     "data": {
      "text/html": [
       "<div>\n",
       "<style scoped>\n",
       "    .dataframe tbody tr th:only-of-type {\n",
       "        vertical-align: middle;\n",
       "    }\n",
       "\n",
       "    .dataframe tbody tr th {\n",
       "        vertical-align: top;\n",
       "    }\n",
       "\n",
       "    .dataframe thead th {\n",
       "        text-align: right;\n",
       "    }\n",
       "</style>\n",
       "<table border=\"1\" class=\"dataframe\">\n",
       "  <thead>\n",
       "    <tr style=\"text-align: right;\">\n",
       "      <th></th>\n",
       "      <th>Open</th>\n",
       "      <th>High</th>\n",
       "      <th>Low</th>\n",
       "      <th>Close</th>\n",
       "      <th>Adj Close</th>\n",
       "      <th>Volume</th>\n",
       "    </tr>\n",
       "    <tr>\n",
       "      <th>Date</th>\n",
       "      <th></th>\n",
       "      <th></th>\n",
       "      <th></th>\n",
       "      <th></th>\n",
       "      <th></th>\n",
       "      <th></th>\n",
       "    </tr>\n",
       "  </thead>\n",
       "  <tbody>\n",
       "    <tr>\n",
       "      <th>2021-11-22</th>\n",
       "      <td>1546.000000</td>\n",
       "      <td>1552.699951</td>\n",
       "      <td>1499.050049</td>\n",
       "      <td>1515.349976</td>\n",
       "      <td>1497.933472</td>\n",
       "      <td>7630636</td>\n",
       "    </tr>\n",
       "    <tr>\n",
       "      <th>2021-11-23</th>\n",
       "      <td>1502.000000</td>\n",
       "      <td>1527.800049</td>\n",
       "      <td>1496.349976</td>\n",
       "      <td>1515.550049</td>\n",
       "      <td>1498.131226</td>\n",
       "      <td>5617607</td>\n",
       "    </tr>\n",
       "    <tr>\n",
       "      <th>2021-11-24</th>\n",
       "      <td>1524.000000</td>\n",
       "      <td>1536.349976</td>\n",
       "      <td>1514.050049</td>\n",
       "      <td>1518.050049</td>\n",
       "      <td>1500.602539</td>\n",
       "      <td>15401143</td>\n",
       "    </tr>\n",
       "    <tr>\n",
       "      <th>2021-11-25</th>\n",
       "      <td>1514.800049</td>\n",
       "      <td>1533.300049</td>\n",
       "      <td>1507.000000</td>\n",
       "      <td>1525.949951</td>\n",
       "      <td>1508.411621</td>\n",
       "      <td>5125826</td>\n",
       "    </tr>\n",
       "    <tr>\n",
       "      <th>2021-11-26</th>\n",
       "      <td>1500.000000</td>\n",
       "      <td>1506.699951</td>\n",
       "      <td>1485.000000</td>\n",
       "      <td>1489.900024</td>\n",
       "      <td>1472.776001</td>\n",
       "      <td>9312468</td>\n",
       "    </tr>\n",
       "  </tbody>\n",
       "</table>\n",
       "</div>"
      ],
      "text/plain": [
       "                   Open         High          Low        Close    Adj Close  \\\n",
       "Date                                                                          \n",
       "2021-11-22  1546.000000  1552.699951  1499.050049  1515.349976  1497.933472   \n",
       "2021-11-23  1502.000000  1527.800049  1496.349976  1515.550049  1498.131226   \n",
       "2021-11-24  1524.000000  1536.349976  1514.050049  1518.050049  1500.602539   \n",
       "2021-11-25  1514.800049  1533.300049  1507.000000  1525.949951  1508.411621   \n",
       "2021-11-26  1500.000000  1506.699951  1485.000000  1489.900024  1472.776001   \n",
       "\n",
       "              Volume  \n",
       "Date                  \n",
       "2021-11-22   7630636  \n",
       "2021-11-23   5617607  \n",
       "2021-11-24  15401143  \n",
       "2021-11-25   5125826  \n",
       "2021-11-26   9312468  "
      ]
     },
     "execution_count": 20,
     "metadata": {},
     "output_type": "execute_result"
    }
   ],
   "source": [
    "hdfc.head(5)\n",
    "#.head() return top five col from the data frame "
   ]
  },
  {
   "cell_type": "code",
   "execution_count": 26,
   "id": "0bbbcdbf",
   "metadata": {},
   "outputs": [
    {
     "data": {
      "text/html": [
       "<div>\n",
       "<style scoped>\n",
       "    .dataframe tbody tr th:only-of-type {\n",
       "        vertical-align: middle;\n",
       "    }\n",
       "\n",
       "    .dataframe tbody tr th {\n",
       "        vertical-align: top;\n",
       "    }\n",
       "\n",
       "    .dataframe thead th {\n",
       "        text-align: right;\n",
       "    }\n",
       "</style>\n",
       "<table border=\"1\" class=\"dataframe\">\n",
       "  <thead>\n",
       "    <tr style=\"text-align: right;\">\n",
       "      <th></th>\n",
       "      <th>Open</th>\n",
       "      <th>High</th>\n",
       "      <th>Low</th>\n",
       "      <th>Close</th>\n",
       "      <th>Adj Close</th>\n",
       "      <th>Volume</th>\n",
       "    </tr>\n",
       "    <tr>\n",
       "      <th>Date</th>\n",
       "      <th></th>\n",
       "      <th></th>\n",
       "      <th></th>\n",
       "      <th></th>\n",
       "      <th></th>\n",
       "      <th></th>\n",
       "    </tr>\n",
       "  </thead>\n",
       "  <tbody>\n",
       "    <tr>\n",
       "      <th>2022-11-16</th>\n",
       "      <td>1618.650024</td>\n",
       "      <td>1642.000000</td>\n",
       "      <td>1612.000000</td>\n",
       "      <td>1632.900024</td>\n",
       "      <td>1632.900024</td>\n",
       "      <td>6789075</td>\n",
       "    </tr>\n",
       "    <tr>\n",
       "      <th>2022-11-17</th>\n",
       "      <td>1618.099976</td>\n",
       "      <td>1631.550049</td>\n",
       "      <td>1613.900024</td>\n",
       "      <td>1618.150024</td>\n",
       "      <td>1618.150024</td>\n",
       "      <td>6050465</td>\n",
       "    </tr>\n",
       "    <tr>\n",
       "      <th>2022-11-18</th>\n",
       "      <td>1621.000000</td>\n",
       "      <td>1623.000000</td>\n",
       "      <td>1605.250000</td>\n",
       "      <td>1613.900024</td>\n",
       "      <td>1613.900024</td>\n",
       "      <td>5229616</td>\n",
       "    </tr>\n",
       "    <tr>\n",
       "      <th>2022-11-21</th>\n",
       "      <td>1607.650024</td>\n",
       "      <td>1612.000000</td>\n",
       "      <td>1601.000000</td>\n",
       "      <td>1601.250000</td>\n",
       "      <td>1601.250000</td>\n",
       "      <td>411744</td>\n",
       "    </tr>\n",
       "  </tbody>\n",
       "</table>\n",
       "</div>"
      ],
      "text/plain": [
       "                   Open         High          Low        Close    Adj Close  \\\n",
       "Date                                                                          \n",
       "2022-11-16  1618.650024  1642.000000  1612.000000  1632.900024  1632.900024   \n",
       "2022-11-17  1618.099976  1631.550049  1613.900024  1618.150024  1618.150024   \n",
       "2022-11-18  1621.000000  1623.000000  1605.250000  1613.900024  1613.900024   \n",
       "2022-11-21  1607.650024  1612.000000  1601.000000  1601.250000  1601.250000   \n",
       "\n",
       "             Volume  \n",
       "Date                 \n",
       "2022-11-16  6789075  \n",
       "2022-11-17  6050465  \n",
       "2022-11-18  5229616  \n",
       "2022-11-21   411744  "
      ]
     },
     "execution_count": 26,
     "metadata": {},
     "output_type": "execute_result"
    }
   ],
   "source": [
    "hdfc.tail(4)\n",
    "#.tail()fuction return bottom 5 col fro the dataframe"
   ]
  },
  {
   "cell_type": "code",
   "execution_count": 25,
   "id": "81b83039",
   "metadata": {},
   "outputs": [
    {
     "data": {
      "text/plain": [
       "Open         float64\n",
       "High         float64\n",
       "Low          float64\n",
       "Close        float64\n",
       "Adj Close    float64\n",
       "Volume         int64\n",
       "dtype: object"
      ]
     },
     "execution_count": 25,
     "metadata": {},
     "output_type": "execute_result"
    }
   ],
   "source": [
    "hdfc.dtypes\n",
    "#.dtypes fuction gives the data types of each columns in dataframe\n"
   ]
  },
  {
   "cell_type": "code",
   "execution_count": 24,
   "id": "1cda43f4",
   "metadata": {},
   "outputs": [
    {
     "data": {
      "text/plain": [
       "DatetimeIndex(['2021-11-22', '2021-11-23', '2021-11-24', '2021-11-25',\n",
       "               '2021-11-26', '2021-11-29', '2021-11-30', '2021-12-01',\n",
       "               '2021-12-02', '2021-12-03',\n",
       "               ...\n",
       "               '2022-11-07', '2022-11-09', '2022-11-10', '2022-11-11',\n",
       "               '2022-11-14', '2022-11-15', '2022-11-16', '2022-11-17',\n",
       "               '2022-11-18', '2022-11-21'],\n",
       "              dtype='datetime64[ns]', name='Date', length=249, freq=None)"
      ]
     },
     "execution_count": 24,
     "metadata": {},
     "output_type": "execute_result"
    }
   ],
   "source": [
    "hdfc.index\n",
    "#.index returns the index col from the dataframe"
   ]
  },
  {
   "cell_type": "code",
   "execution_count": 28,
   "id": "960fb63a",
   "metadata": {},
   "outputs": [
    {
     "data": {
      "text/plain": [
       "Open         1.623150e+03\n",
       "High         1.623150e+03\n",
       "Low          1.605250e+03\n",
       "Close        1.619000e+03\n",
       "Adj Close    1.619000e+03\n",
       "Volume       5.515101e+06\n",
       "Name: 2022-11-15 00:00:00, dtype: float64"
      ]
     },
     "execution_count": 28,
     "metadata": {},
     "output_type": "execute_result"
    }
   ],
   "source": [
    "hdfc.loc['2022-11-15']\n",
    "#this is important function when it comes to finding the specific info using the index\n",
    "#.loc"
   ]
  },
  {
   "cell_type": "code",
   "execution_count": 34,
   "id": "e82c2f9e",
   "metadata": {},
   "outputs": [
    {
     "data": {
      "text/html": [
       "<div>\n",
       "<style scoped>\n",
       "    .dataframe tbody tr th:only-of-type {\n",
       "        vertical-align: middle;\n",
       "    }\n",
       "\n",
       "    .dataframe tbody tr th {\n",
       "        vertical-align: top;\n",
       "    }\n",
       "\n",
       "    .dataframe thead th {\n",
       "        text-align: right;\n",
       "    }\n",
       "</style>\n",
       "<table border=\"1\" class=\"dataframe\">\n",
       "  <thead>\n",
       "    <tr style=\"text-align: right;\">\n",
       "      <th></th>\n",
       "      <th>Open</th>\n",
       "      <th>High</th>\n",
       "      <th>Low</th>\n",
       "      <th>Close</th>\n",
       "      <th>Adj Close</th>\n",
       "      <th>Volume</th>\n",
       "    </tr>\n",
       "    <tr>\n",
       "      <th>Date</th>\n",
       "      <th></th>\n",
       "      <th></th>\n",
       "      <th></th>\n",
       "      <th></th>\n",
       "      <th></th>\n",
       "      <th></th>\n",
       "    </tr>\n",
       "  </thead>\n",
       "  <tbody>\n",
       "    <tr>\n",
       "      <th>2021-11-26</th>\n",
       "      <td>1500.000000</td>\n",
       "      <td>1506.699951</td>\n",
       "      <td>1485.000000</td>\n",
       "      <td>1489.900024</td>\n",
       "      <td>1472.776001</td>\n",
       "      <td>9312468</td>\n",
       "    </tr>\n",
       "    <tr>\n",
       "      <th>2021-11-29</th>\n",
       "      <td>1494.800049</td>\n",
       "      <td>1507.650024</td>\n",
       "      <td>1462.000000</td>\n",
       "      <td>1501.250000</td>\n",
       "      <td>1483.995605</td>\n",
       "      <td>6495498</td>\n",
       "    </tr>\n",
       "    <tr>\n",
       "      <th>2021-11-30</th>\n",
       "      <td>1495.000000</td>\n",
       "      <td>1529.000000</td>\n",
       "      <td>1486.550049</td>\n",
       "      <td>1493.550049</td>\n",
       "      <td>1476.384155</td>\n",
       "      <td>12610771</td>\n",
       "    </tr>\n",
       "    <tr>\n",
       "      <th>2021-12-01</th>\n",
       "      <td>1495.000000</td>\n",
       "      <td>1507.050049</td>\n",
       "      <td>1489.099976</td>\n",
       "      <td>1504.650024</td>\n",
       "      <td>1487.356445</td>\n",
       "      <td>4338817</td>\n",
       "    </tr>\n",
       "    <tr>\n",
       "      <th>2021-12-02</th>\n",
       "      <td>1504.500000</td>\n",
       "      <td>1528.800049</td>\n",
       "      <td>1500.000000</td>\n",
       "      <td>1525.750000</td>\n",
       "      <td>1508.213989</td>\n",
       "      <td>5601555</td>\n",
       "    </tr>\n",
       "    <tr>\n",
       "      <th>2021-12-03</th>\n",
       "      <td>1525.800049</td>\n",
       "      <td>1535.949951</td>\n",
       "      <td>1507.050049</td>\n",
       "      <td>1513.550049</td>\n",
       "      <td>1496.154175</td>\n",
       "      <td>4062347</td>\n",
       "    </tr>\n",
       "  </tbody>\n",
       "</table>\n",
       "</div>"
      ],
      "text/plain": [
       "                   Open         High          Low        Close    Adj Close  \\\n",
       "Date                                                                          \n",
       "2021-11-26  1500.000000  1506.699951  1485.000000  1489.900024  1472.776001   \n",
       "2021-11-29  1494.800049  1507.650024  1462.000000  1501.250000  1483.995605   \n",
       "2021-11-30  1495.000000  1529.000000  1486.550049  1493.550049  1476.384155   \n",
       "2021-12-01  1495.000000  1507.050049  1489.099976  1504.650024  1487.356445   \n",
       "2021-12-02  1504.500000  1528.800049  1500.000000  1525.750000  1508.213989   \n",
       "2021-12-03  1525.800049  1535.949951  1507.050049  1513.550049  1496.154175   \n",
       "\n",
       "              Volume  \n",
       "Date                  \n",
       "2021-11-26   9312468  \n",
       "2021-11-29   6495498  \n",
       "2021-11-30  12610771  \n",
       "2021-12-01   4338817  \n",
       "2021-12-02   5601555  \n",
       "2021-12-03   4062347  "
      ]
     },
     "execution_count": 34,
     "metadata": {},
     "output_type": "execute_result"
    }
   ],
   "source": [
    "hdfc.loc[\"2021-11-26\":\"2021-12-03\"]\n",
    "#this is how you can access the data from specific range start and end date "
   ]
  },
  {
   "cell_type": "code",
   "execution_count": 36,
   "id": "fc0f5ac4",
   "metadata": {},
   "outputs": [
    {
     "data": {
      "text/plain": [
       "Open         1.623150e+03\n",
       "High         1.623150e+03\n",
       "Low          1.605250e+03\n",
       "Close        1.619000e+03\n",
       "Adj Close    1.619000e+03\n",
       "Volume       5.515101e+06\n",
       "Name: 2022-11-15 00:00:00, dtype: float64"
      ]
     },
     "execution_count": 36,
     "metadata": {},
     "output_type": "execute_result"
    }
   ],
   "source": [
    "hdfc.iloc[-5]\n",
    "# when u dont have the idea of the specfic date by using .iloc u can acces the any \n",
    "#row eg iloc[-5] will give u the last fifth row from the data frame\n",
    "#eg iloc[0] will give u the first row from the data frame "
   ]
  },
  {
   "cell_type": "code",
   "execution_count": 38,
   "id": "eb412037",
   "metadata": {},
   "outputs": [
    {
     "data": {
      "text/html": [
       "<div>\n",
       "<style scoped>\n",
       "    .dataframe tbody tr th:only-of-type {\n",
       "        vertical-align: middle;\n",
       "    }\n",
       "\n",
       "    .dataframe tbody tr th {\n",
       "        vertical-align: top;\n",
       "    }\n",
       "\n",
       "    .dataframe thead th {\n",
       "        text-align: right;\n",
       "    }\n",
       "</style>\n",
       "<table border=\"1\" class=\"dataframe\">\n",
       "  <thead>\n",
       "    <tr style=\"text-align: right;\">\n",
       "      <th></th>\n",
       "      <th>Open</th>\n",
       "      <th>High</th>\n",
       "      <th>Low</th>\n",
       "      <th>Close</th>\n",
       "      <th>Adj Close</th>\n",
       "      <th>Volume</th>\n",
       "    </tr>\n",
       "    <tr>\n",
       "      <th>Date</th>\n",
       "      <th></th>\n",
       "      <th></th>\n",
       "      <th></th>\n",
       "      <th></th>\n",
       "      <th></th>\n",
       "      <th></th>\n",
       "    </tr>\n",
       "  </thead>\n",
       "  <tbody>\n",
       "    <tr>\n",
       "      <th>2022-11-14</th>\n",
       "      <td>1612.000000</td>\n",
       "      <td>1628.000000</td>\n",
       "      <td>1598.000000</td>\n",
       "      <td>1615.050049</td>\n",
       "      <td>1615.050049</td>\n",
       "      <td>9597695</td>\n",
       "    </tr>\n",
       "    <tr>\n",
       "      <th>2022-11-15</th>\n",
       "      <td>1623.150024</td>\n",
       "      <td>1623.150024</td>\n",
       "      <td>1605.250000</td>\n",
       "      <td>1619.000000</td>\n",
       "      <td>1619.000000</td>\n",
       "      <td>5515101</td>\n",
       "    </tr>\n",
       "    <tr>\n",
       "      <th>2022-11-16</th>\n",
       "      <td>1618.650024</td>\n",
       "      <td>1642.000000</td>\n",
       "      <td>1612.000000</td>\n",
       "      <td>1632.900024</td>\n",
       "      <td>1632.900024</td>\n",
       "      <td>6789075</td>\n",
       "    </tr>\n",
       "    <tr>\n",
       "      <th>2022-11-17</th>\n",
       "      <td>1618.099976</td>\n",
       "      <td>1631.550049</td>\n",
       "      <td>1613.900024</td>\n",
       "      <td>1618.150024</td>\n",
       "      <td>1618.150024</td>\n",
       "      <td>6050465</td>\n",
       "    </tr>\n",
       "    <tr>\n",
       "      <th>2022-11-18</th>\n",
       "      <td>1621.000000</td>\n",
       "      <td>1623.000000</td>\n",
       "      <td>1605.250000</td>\n",
       "      <td>1613.900024</td>\n",
       "      <td>1613.900024</td>\n",
       "      <td>5229616</td>\n",
       "    </tr>\n",
       "    <tr>\n",
       "      <th>2022-11-21</th>\n",
       "      <td>1607.650024</td>\n",
       "      <td>1612.000000</td>\n",
       "      <td>1601.000000</td>\n",
       "      <td>1601.250000</td>\n",
       "      <td>1601.250000</td>\n",
       "      <td>411744</td>\n",
       "    </tr>\n",
       "  </tbody>\n",
       "</table>\n",
       "</div>"
      ],
      "text/plain": [
       "                   Open         High          Low        Close    Adj Close  \\\n",
       "Date                                                                          \n",
       "2022-11-14  1612.000000  1628.000000  1598.000000  1615.050049  1615.050049   \n",
       "2022-11-15  1623.150024  1623.150024  1605.250000  1619.000000  1619.000000   \n",
       "2022-11-16  1618.650024  1642.000000  1612.000000  1632.900024  1632.900024   \n",
       "2022-11-17  1618.099976  1631.550049  1613.900024  1618.150024  1618.150024   \n",
       "2022-11-18  1621.000000  1623.000000  1605.250000  1613.900024  1613.900024   \n",
       "2022-11-21  1607.650024  1612.000000  1601.000000  1601.250000  1601.250000   \n",
       "\n",
       "             Volume  \n",
       "Date                 \n",
       "2022-11-14  9597695  \n",
       "2022-11-15  5515101  \n",
       "2022-11-16  6789075  \n",
       "2022-11-17  6050465  \n",
       "2022-11-18  5229616  \n",
       "2022-11-21   411744  "
      ]
     },
     "execution_count": 38,
     "metadata": {},
     "output_type": "execute_result"
    }
   ],
   "source": [
    "hdfc.tail(6)\n",
    "#verifying with the previous command and the result is perfect \n"
   ]
  },
  {
   "cell_type": "code",
   "execution_count": 42,
   "id": "a38be7cb",
   "metadata": {},
   "outputs": [
    {
     "data": {
      "text/plain": [
       "Date\n",
       "2021-11-22    1515.349976\n",
       "2021-11-23    1515.550049\n",
       "2021-11-24    1518.050049\n",
       "2021-11-25    1525.949951\n",
       "2021-11-26    1489.900024\n",
       "                 ...     \n",
       "2022-11-15    1619.000000\n",
       "2022-11-16    1632.900024\n",
       "2022-11-17    1618.150024\n",
       "2022-11-18    1613.900024\n",
       "2022-11-21    1601.250000\n",
       "Name: Close, Length: 249, dtype: float64"
      ]
     },
     "execution_count": 42,
     "metadata": {},
     "output_type": "execute_result"
    }
   ],
   "source": [
    "hdfc['Close']\n",
    "#this is how u can access  columns from the data frame \n"
   ]
  },
  {
   "cell_type": "code",
   "execution_count": 44,
   "id": "7c0d16ea",
   "metadata": {},
   "outputs": [
    {
     "data": {
      "text/html": [
       "<div>\n",
       "<style scoped>\n",
       "    .dataframe tbody tr th:only-of-type {\n",
       "        vertical-align: middle;\n",
       "    }\n",
       "\n",
       "    .dataframe tbody tr th {\n",
       "        vertical-align: top;\n",
       "    }\n",
       "\n",
       "    .dataframe thead th {\n",
       "        text-align: right;\n",
       "    }\n",
       "</style>\n",
       "<table border=\"1\" class=\"dataframe\">\n",
       "  <thead>\n",
       "    <tr style=\"text-align: right;\">\n",
       "      <th></th>\n",
       "      <th>Close</th>\n",
       "      <th>Open</th>\n",
       "      <th>High</th>\n",
       "    </tr>\n",
       "    <tr>\n",
       "      <th>Date</th>\n",
       "      <th></th>\n",
       "      <th></th>\n",
       "      <th></th>\n",
       "    </tr>\n",
       "  </thead>\n",
       "  <tbody>\n",
       "    <tr>\n",
       "      <th>2021-11-22</th>\n",
       "      <td>1515.349976</td>\n",
       "      <td>1546.000000</td>\n",
       "      <td>1552.699951</td>\n",
       "    </tr>\n",
       "    <tr>\n",
       "      <th>2021-11-23</th>\n",
       "      <td>1515.550049</td>\n",
       "      <td>1502.000000</td>\n",
       "      <td>1527.800049</td>\n",
       "    </tr>\n",
       "    <tr>\n",
       "      <th>2021-11-24</th>\n",
       "      <td>1518.050049</td>\n",
       "      <td>1524.000000</td>\n",
       "      <td>1536.349976</td>\n",
       "    </tr>\n",
       "    <tr>\n",
       "      <th>2021-11-25</th>\n",
       "      <td>1525.949951</td>\n",
       "      <td>1514.800049</td>\n",
       "      <td>1533.300049</td>\n",
       "    </tr>\n",
       "    <tr>\n",
       "      <th>2021-11-26</th>\n",
       "      <td>1489.900024</td>\n",
       "      <td>1500.000000</td>\n",
       "      <td>1506.699951</td>\n",
       "    </tr>\n",
       "    <tr>\n",
       "      <th>...</th>\n",
       "      <td>...</td>\n",
       "      <td>...</td>\n",
       "      <td>...</td>\n",
       "    </tr>\n",
       "    <tr>\n",
       "      <th>2022-11-15</th>\n",
       "      <td>1619.000000</td>\n",
       "      <td>1623.150024</td>\n",
       "      <td>1623.150024</td>\n",
       "    </tr>\n",
       "    <tr>\n",
       "      <th>2022-11-16</th>\n",
       "      <td>1632.900024</td>\n",
       "      <td>1618.650024</td>\n",
       "      <td>1642.000000</td>\n",
       "    </tr>\n",
       "    <tr>\n",
       "      <th>2022-11-17</th>\n",
       "      <td>1618.150024</td>\n",
       "      <td>1618.099976</td>\n",
       "      <td>1631.550049</td>\n",
       "    </tr>\n",
       "    <tr>\n",
       "      <th>2022-11-18</th>\n",
       "      <td>1613.900024</td>\n",
       "      <td>1621.000000</td>\n",
       "      <td>1623.000000</td>\n",
       "    </tr>\n",
       "    <tr>\n",
       "      <th>2022-11-21</th>\n",
       "      <td>1601.250000</td>\n",
       "      <td>1607.650024</td>\n",
       "      <td>1612.000000</td>\n",
       "    </tr>\n",
       "  </tbody>\n",
       "</table>\n",
       "<p>249 rows × 3 columns</p>\n",
       "</div>"
      ],
      "text/plain": [
       "                  Close         Open         High\n",
       "Date                                             \n",
       "2021-11-22  1515.349976  1546.000000  1552.699951\n",
       "2021-11-23  1515.550049  1502.000000  1527.800049\n",
       "2021-11-24  1518.050049  1524.000000  1536.349976\n",
       "2021-11-25  1525.949951  1514.800049  1533.300049\n",
       "2021-11-26  1489.900024  1500.000000  1506.699951\n",
       "...                 ...          ...          ...\n",
       "2022-11-15  1619.000000  1623.150024  1623.150024\n",
       "2022-11-16  1632.900024  1618.650024  1642.000000\n",
       "2022-11-17  1618.150024  1618.099976  1631.550049\n",
       "2022-11-18  1613.900024  1621.000000  1623.000000\n",
       "2022-11-21  1601.250000  1607.650024  1612.000000\n",
       "\n",
       "[249 rows x 3 columns]"
      ]
     },
     "execution_count": 44,
     "metadata": {},
     "output_type": "execute_result"
    }
   ],
   "source": [
    "hdfc[['Close','Open','High']]\n",
    "#this is how u can acces mutiple col from the data frame "
   ]
  },
  {
   "cell_type": "code",
   "execution_count": 45,
   "id": "5c596d6a",
   "metadata": {},
   "outputs": [],
   "source": [
    "hdfc['daily_pct_chg']=(hdfc['Close']-hdfc['Open'])/hdfc['Open']*100\n",
    "#if u need to create a new columns in the data frame and how u can calculate the \n",
    "#daily percentage change "
   ]
  },
  {
   "cell_type": "code",
   "execution_count": 46,
   "id": "04f3cd24",
   "metadata": {},
   "outputs": [
    {
     "data": {
      "text/html": [
       "<div>\n",
       "<style scoped>\n",
       "    .dataframe tbody tr th:only-of-type {\n",
       "        vertical-align: middle;\n",
       "    }\n",
       "\n",
       "    .dataframe tbody tr th {\n",
       "        vertical-align: top;\n",
       "    }\n",
       "\n",
       "    .dataframe thead th {\n",
       "        text-align: right;\n",
       "    }\n",
       "</style>\n",
       "<table border=\"1\" class=\"dataframe\">\n",
       "  <thead>\n",
       "    <tr style=\"text-align: right;\">\n",
       "      <th></th>\n",
       "      <th>Open</th>\n",
       "      <th>High</th>\n",
       "      <th>Low</th>\n",
       "      <th>Close</th>\n",
       "      <th>Adj Close</th>\n",
       "      <th>Volume</th>\n",
       "      <th>daily_pct_chg</th>\n",
       "    </tr>\n",
       "    <tr>\n",
       "      <th>Date</th>\n",
       "      <th></th>\n",
       "      <th></th>\n",
       "      <th></th>\n",
       "      <th></th>\n",
       "      <th></th>\n",
       "      <th></th>\n",
       "      <th></th>\n",
       "    </tr>\n",
       "  </thead>\n",
       "  <tbody>\n",
       "    <tr>\n",
       "      <th>2021-11-22</th>\n",
       "      <td>1546.000000</td>\n",
       "      <td>1552.699951</td>\n",
       "      <td>1499.050049</td>\n",
       "      <td>1515.349976</td>\n",
       "      <td>1497.933472</td>\n",
       "      <td>7630636</td>\n",
       "      <td>-1.982537</td>\n",
       "    </tr>\n",
       "    <tr>\n",
       "      <th>2021-11-23</th>\n",
       "      <td>1502.000000</td>\n",
       "      <td>1527.800049</td>\n",
       "      <td>1496.349976</td>\n",
       "      <td>1515.550049</td>\n",
       "      <td>1498.131226</td>\n",
       "      <td>5617607</td>\n",
       "      <td>0.902134</td>\n",
       "    </tr>\n",
       "    <tr>\n",
       "      <th>2021-11-24</th>\n",
       "      <td>1524.000000</td>\n",
       "      <td>1536.349976</td>\n",
       "      <td>1514.050049</td>\n",
       "      <td>1518.050049</td>\n",
       "      <td>1500.602539</td>\n",
       "      <td>15401143</td>\n",
       "      <td>-0.390417</td>\n",
       "    </tr>\n",
       "    <tr>\n",
       "      <th>2021-11-25</th>\n",
       "      <td>1514.800049</td>\n",
       "      <td>1533.300049</td>\n",
       "      <td>1507.000000</td>\n",
       "      <td>1525.949951</td>\n",
       "      <td>1508.411621</td>\n",
       "      <td>5125826</td>\n",
       "      <td>0.736064</td>\n",
       "    </tr>\n",
       "    <tr>\n",
       "      <th>2021-11-26</th>\n",
       "      <td>1500.000000</td>\n",
       "      <td>1506.699951</td>\n",
       "      <td>1485.000000</td>\n",
       "      <td>1489.900024</td>\n",
       "      <td>1472.776001</td>\n",
       "      <td>9312468</td>\n",
       "      <td>-0.673332</td>\n",
       "    </tr>\n",
       "  </tbody>\n",
       "</table>\n",
       "</div>"
      ],
      "text/plain": [
       "                   Open         High          Low        Close    Adj Close  \\\n",
       "Date                                                                          \n",
       "2021-11-22  1546.000000  1552.699951  1499.050049  1515.349976  1497.933472   \n",
       "2021-11-23  1502.000000  1527.800049  1496.349976  1515.550049  1498.131226   \n",
       "2021-11-24  1524.000000  1536.349976  1514.050049  1518.050049  1500.602539   \n",
       "2021-11-25  1514.800049  1533.300049  1507.000000  1525.949951  1508.411621   \n",
       "2021-11-26  1500.000000  1506.699951  1485.000000  1489.900024  1472.776001   \n",
       "\n",
       "              Volume  daily_pct_chg  \n",
       "Date                                 \n",
       "2021-11-22   7630636      -1.982537  \n",
       "2021-11-23   5617607       0.902134  \n",
       "2021-11-24  15401143      -0.390417  \n",
       "2021-11-25   5125826       0.736064  \n",
       "2021-11-26   9312468      -0.673332  "
      ]
     },
     "execution_count": 46,
     "metadata": {},
     "output_type": "execute_result"
    }
   ],
   "source": [
    "hdfc.head()"
   ]
  },
  {
   "cell_type": "code",
   "execution_count": 47,
   "id": "4fc04eb5",
   "metadata": {},
   "outputs": [],
   "source": [
    "#so now the question that arise in my mind how can i caluculate the return that is \n",
    "#if i bought the stock on the first day and sold on the last day how much did i gain"
   ]
  },
  {
   "cell_type": "code",
   "execution_count": 49,
   "id": "8a413fbe",
   "metadata": {},
   "outputs": [],
   "source": [
    "norm = hdfc['Close']/hdfc['Close'].iloc[0]"
   ]
  },
  {
   "cell_type": "markdown",
   "id": "5e304fad",
   "metadata": {},
   "source": [
    "norm"
   ]
  },
  {
   "cell_type": "code",
   "execution_count": 50,
   "id": "26c2d650",
   "metadata": {},
   "outputs": [
    {
     "data": {
      "text/plain": [
       "Date\n",
       "2021-11-22    1.000000\n",
       "2021-11-23    1.000132\n",
       "2021-11-24    1.001782\n",
       "2021-11-25    1.006995\n",
       "2021-11-26    0.983205\n",
       "                ...   \n",
       "2022-11-15    1.068400\n",
       "2022-11-16    1.077573\n",
       "2022-11-17    1.067839\n",
       "2022-11-18    1.065035\n",
       "2022-11-21    1.056687\n",
       "Name: Close, Length: 249, dtype: float64"
      ]
     },
     "execution_count": 50,
     "metadata": {},
     "output_type": "execute_result"
    }
   ],
   "source": [
    "norm# so it can be said that the hdfc stock in one year grew  by 5 % "
   ]
  },
  {
   "cell_type": "code",
   "execution_count": 51,
   "id": "b277e67a",
   "metadata": {},
   "outputs": [],
   "source": [
    "#how can u calculate the return from the specific date mentiion\n"
   ]
  },
  {
   "cell_type": "code",
   "execution_count": 52,
   "id": "5c8ae5c4",
   "metadata": {},
   "outputs": [
    {
     "data": {
      "text/plain": [
       "1.0832270608782808"
      ]
     },
     "execution_count": 52,
     "metadata": {},
     "output_type": "execute_result"
    }
   ],
   "source": [
    "hdfc['Close'].loc['2022-11-18']/hdfc['Close'].loc['2021-11-26']\n",
    "#suppose u bought the stock on the 11/21 and sold it on 11/22 you would get the return of 8%"
   ]
  },
  {
   "cell_type": "code",
   "execution_count": 54,
   "id": "6eb5e43d",
   "metadata": {},
   "outputs": [],
   "source": [
    "hdfc['Normalized']=hdfc['Close']/hdfc['Close'].iloc[0]\n",
    "#creatind a normalized column on the data frame and we get the returns "
   ]
  },
  {
   "cell_type": "code",
   "execution_count": 55,
   "id": "b532f760",
   "metadata": {},
   "outputs": [
    {
     "data": {
      "text/html": [
       "<div>\n",
       "<style scoped>\n",
       "    .dataframe tbody tr th:only-of-type {\n",
       "        vertical-align: middle;\n",
       "    }\n",
       "\n",
       "    .dataframe tbody tr th {\n",
       "        vertical-align: top;\n",
       "    }\n",
       "\n",
       "    .dataframe thead th {\n",
       "        text-align: right;\n",
       "    }\n",
       "</style>\n",
       "<table border=\"1\" class=\"dataframe\">\n",
       "  <thead>\n",
       "    <tr style=\"text-align: right;\">\n",
       "      <th></th>\n",
       "      <th>Open</th>\n",
       "      <th>High</th>\n",
       "      <th>Low</th>\n",
       "      <th>Close</th>\n",
       "      <th>Adj Close</th>\n",
       "      <th>Volume</th>\n",
       "      <th>daily_pct_chg</th>\n",
       "      <th>Normalized</th>\n",
       "    </tr>\n",
       "    <tr>\n",
       "      <th>Date</th>\n",
       "      <th></th>\n",
       "      <th></th>\n",
       "      <th></th>\n",
       "      <th></th>\n",
       "      <th></th>\n",
       "      <th></th>\n",
       "      <th></th>\n",
       "      <th></th>\n",
       "    </tr>\n",
       "  </thead>\n",
       "  <tbody>\n",
       "    <tr>\n",
       "      <th>2021-11-22</th>\n",
       "      <td>1546.000000</td>\n",
       "      <td>1552.699951</td>\n",
       "      <td>1499.050049</td>\n",
       "      <td>1515.349976</td>\n",
       "      <td>1497.933472</td>\n",
       "      <td>7630636</td>\n",
       "      <td>-1.982537</td>\n",
       "      <td>1.000000</td>\n",
       "    </tr>\n",
       "    <tr>\n",
       "      <th>2021-11-23</th>\n",
       "      <td>1502.000000</td>\n",
       "      <td>1527.800049</td>\n",
       "      <td>1496.349976</td>\n",
       "      <td>1515.550049</td>\n",
       "      <td>1498.131226</td>\n",
       "      <td>5617607</td>\n",
       "      <td>0.902134</td>\n",
       "      <td>1.000132</td>\n",
       "    </tr>\n",
       "    <tr>\n",
       "      <th>2021-11-24</th>\n",
       "      <td>1524.000000</td>\n",
       "      <td>1536.349976</td>\n",
       "      <td>1514.050049</td>\n",
       "      <td>1518.050049</td>\n",
       "      <td>1500.602539</td>\n",
       "      <td>15401143</td>\n",
       "      <td>-0.390417</td>\n",
       "      <td>1.001782</td>\n",
       "    </tr>\n",
       "    <tr>\n",
       "      <th>2021-11-25</th>\n",
       "      <td>1514.800049</td>\n",
       "      <td>1533.300049</td>\n",
       "      <td>1507.000000</td>\n",
       "      <td>1525.949951</td>\n",
       "      <td>1508.411621</td>\n",
       "      <td>5125826</td>\n",
       "      <td>0.736064</td>\n",
       "      <td>1.006995</td>\n",
       "    </tr>\n",
       "    <tr>\n",
       "      <th>2021-11-26</th>\n",
       "      <td>1500.000000</td>\n",
       "      <td>1506.699951</td>\n",
       "      <td>1485.000000</td>\n",
       "      <td>1489.900024</td>\n",
       "      <td>1472.776001</td>\n",
       "      <td>9312468</td>\n",
       "      <td>-0.673332</td>\n",
       "      <td>0.983205</td>\n",
       "    </tr>\n",
       "  </tbody>\n",
       "</table>\n",
       "</div>"
      ],
      "text/plain": [
       "                   Open         High          Low        Close    Adj Close  \\\n",
       "Date                                                                          \n",
       "2021-11-22  1546.000000  1552.699951  1499.050049  1515.349976  1497.933472   \n",
       "2021-11-23  1502.000000  1527.800049  1496.349976  1515.550049  1498.131226   \n",
       "2021-11-24  1524.000000  1536.349976  1514.050049  1518.050049  1500.602539   \n",
       "2021-11-25  1514.800049  1533.300049  1507.000000  1525.949951  1508.411621   \n",
       "2021-11-26  1500.000000  1506.699951  1485.000000  1489.900024  1472.776001   \n",
       "\n",
       "              Volume  daily_pct_chg  Normalized  \n",
       "Date                                             \n",
       "2021-11-22   7630636      -1.982537    1.000000  \n",
       "2021-11-23   5617607       0.902134    1.000132  \n",
       "2021-11-24  15401143      -0.390417    1.001782  \n",
       "2021-11-25   5125826       0.736064    1.006995  \n",
       "2021-11-26   9312468      -0.673332    0.983205  "
      ]
     },
     "execution_count": 55,
     "metadata": {},
     "output_type": "execute_result"
    }
   ],
   "source": [
    "hdfc.head()"
   ]
  },
  {
   "cell_type": "code",
   "execution_count": 56,
   "id": "0a9509ac",
   "metadata": {},
   "outputs": [
    {
     "data": {
      "text/html": [
       "<div>\n",
       "<style scoped>\n",
       "    .dataframe tbody tr th:only-of-type {\n",
       "        vertical-align: middle;\n",
       "    }\n",
       "\n",
       "    .dataframe tbody tr th {\n",
       "        vertical-align: top;\n",
       "    }\n",
       "\n",
       "    .dataframe thead th {\n",
       "        text-align: right;\n",
       "    }\n",
       "</style>\n",
       "<table border=\"1\" class=\"dataframe\">\n",
       "  <thead>\n",
       "    <tr style=\"text-align: right;\">\n",
       "      <th></th>\n",
       "      <th>Open</th>\n",
       "      <th>High</th>\n",
       "      <th>Low</th>\n",
       "      <th>Close</th>\n",
       "      <th>Adj Close</th>\n",
       "      <th>Volume</th>\n",
       "      <th>daily_pct_chg</th>\n",
       "      <th>Normalized</th>\n",
       "    </tr>\n",
       "    <tr>\n",
       "      <th>Date</th>\n",
       "      <th></th>\n",
       "      <th></th>\n",
       "      <th></th>\n",
       "      <th></th>\n",
       "      <th></th>\n",
       "      <th></th>\n",
       "      <th></th>\n",
       "      <th></th>\n",
       "    </tr>\n",
       "  </thead>\n",
       "  <tbody>\n",
       "    <tr>\n",
       "      <th>2022-11-15</th>\n",
       "      <td>1623.150024</td>\n",
       "      <td>1623.150024</td>\n",
       "      <td>1605.250000</td>\n",
       "      <td>1619.000000</td>\n",
       "      <td>1619.000000</td>\n",
       "      <td>5515101</td>\n",
       "      <td>-0.255677</td>\n",
       "      <td>1.068400</td>\n",
       "    </tr>\n",
       "    <tr>\n",
       "      <th>2022-11-16</th>\n",
       "      <td>1618.650024</td>\n",
       "      <td>1642.000000</td>\n",
       "      <td>1612.000000</td>\n",
       "      <td>1632.900024</td>\n",
       "      <td>1632.900024</td>\n",
       "      <td>6789075</td>\n",
       "      <td>0.880363</td>\n",
       "      <td>1.077573</td>\n",
       "    </tr>\n",
       "    <tr>\n",
       "      <th>2022-11-17</th>\n",
       "      <td>1618.099976</td>\n",
       "      <td>1631.550049</td>\n",
       "      <td>1613.900024</td>\n",
       "      <td>1618.150024</td>\n",
       "      <td>1618.150024</td>\n",
       "      <td>6050465</td>\n",
       "      <td>0.003093</td>\n",
       "      <td>1.067839</td>\n",
       "    </tr>\n",
       "    <tr>\n",
       "      <th>2022-11-18</th>\n",
       "      <td>1621.000000</td>\n",
       "      <td>1623.000000</td>\n",
       "      <td>1605.250000</td>\n",
       "      <td>1613.900024</td>\n",
       "      <td>1613.900024</td>\n",
       "      <td>5229616</td>\n",
       "      <td>-0.438000</td>\n",
       "      <td>1.065035</td>\n",
       "    </tr>\n",
       "    <tr>\n",
       "      <th>2022-11-21</th>\n",
       "      <td>1607.650024</td>\n",
       "      <td>1612.000000</td>\n",
       "      <td>1601.000000</td>\n",
       "      <td>1601.250000</td>\n",
       "      <td>1601.250000</td>\n",
       "      <td>411744</td>\n",
       "      <td>-0.398098</td>\n",
       "      <td>1.056687</td>\n",
       "    </tr>\n",
       "  </tbody>\n",
       "</table>\n",
       "</div>"
      ],
      "text/plain": [
       "                   Open         High          Low        Close    Adj Close  \\\n",
       "Date                                                                          \n",
       "2022-11-15  1623.150024  1623.150024  1605.250000  1619.000000  1619.000000   \n",
       "2022-11-16  1618.650024  1642.000000  1612.000000  1632.900024  1632.900024   \n",
       "2022-11-17  1618.099976  1631.550049  1613.900024  1618.150024  1618.150024   \n",
       "2022-11-18  1621.000000  1623.000000  1605.250000  1613.900024  1613.900024   \n",
       "2022-11-21  1607.650024  1612.000000  1601.000000  1601.250000  1601.250000   \n",
       "\n",
       "             Volume  daily_pct_chg  Normalized  \n",
       "Date                                            \n",
       "2022-11-15  5515101      -0.255677    1.068400  \n",
       "2022-11-16  6789075       0.880363    1.077573  \n",
       "2022-11-17  6050465       0.003093    1.067839  \n",
       "2022-11-18  5229616      -0.438000    1.065035  \n",
       "2022-11-21   411744      -0.398098    1.056687  "
      ]
     },
     "execution_count": 56,
     "metadata": {},
     "output_type": "execute_result"
    }
   ],
   "source": [
    "hdfc.tail()"
   ]
  },
  {
   "cell_type": "code",
   "execution_count": 57,
   "id": "86fdbd12",
   "metadata": {},
   "outputs": [
    {
     "data": {
      "text/html": [
       "<div>\n",
       "<style scoped>\n",
       "    .dataframe tbody tr th:only-of-type {\n",
       "        vertical-align: middle;\n",
       "    }\n",
       "\n",
       "    .dataframe tbody tr th {\n",
       "        vertical-align: top;\n",
       "    }\n",
       "\n",
       "    .dataframe thead th {\n",
       "        text-align: right;\n",
       "    }\n",
       "</style>\n",
       "<table border=\"1\" class=\"dataframe\">\n",
       "  <thead>\n",
       "    <tr style=\"text-align: right;\">\n",
       "      <th></th>\n",
       "      <th>Open</th>\n",
       "      <th>High</th>\n",
       "      <th>Low</th>\n",
       "      <th>Close</th>\n",
       "      <th>Adj Close</th>\n",
       "      <th>Volume</th>\n",
       "      <th>daily_pct_chg</th>\n",
       "      <th>Normalized</th>\n",
       "    </tr>\n",
       "  </thead>\n",
       "  <tbody>\n",
       "    <tr>\n",
       "      <th>count</th>\n",
       "      <td>249.000000</td>\n",
       "      <td>249.000000</td>\n",
       "      <td>249.000000</td>\n",
       "      <td>249.000000</td>\n",
       "      <td>249.000000</td>\n",
       "      <td>2.490000e+02</td>\n",
       "      <td>249.000000</td>\n",
       "      <td>249.000000</td>\n",
       "    </tr>\n",
       "    <tr>\n",
       "      <th>mean</th>\n",
       "      <td>1445.140766</td>\n",
       "      <td>1459.939356</td>\n",
       "      <td>1431.471090</td>\n",
       "      <td>1446.357033</td>\n",
       "      <td>1438.422292</td>\n",
       "      <td>7.866505e+06</td>\n",
       "      <td>0.092963</td>\n",
       "      <td>0.954471</td>\n",
       "    </tr>\n",
       "    <tr>\n",
       "      <th>std</th>\n",
       "      <td>77.504683</td>\n",
       "      <td>78.687756</td>\n",
       "      <td>76.499935</td>\n",
       "      <td>77.229590</td>\n",
       "      <td>74.978336</td>\n",
       "      <td>5.171045e+06</td>\n",
       "      <td>1.217547</td>\n",
       "      <td>0.050965</td>\n",
       "    </tr>\n",
       "    <tr>\n",
       "      <th>min</th>\n",
       "      <td>1275.000000</td>\n",
       "      <td>1296.400024</td>\n",
       "      <td>1271.599976</td>\n",
       "      <td>1281.300049</td>\n",
       "      <td>1281.300049</td>\n",
       "      <td>4.117440e+05</td>\n",
       "      <td>-3.506927</td>\n",
       "      <td>0.845547</td>\n",
       "    </tr>\n",
       "    <tr>\n",
       "      <th>25%</th>\n",
       "      <td>1380.349976</td>\n",
       "      <td>1398.000000</td>\n",
       "      <td>1362.900024</td>\n",
       "      <td>1382.349976</td>\n",
       "      <td>1378.449951</td>\n",
       "      <td>5.161071e+06</td>\n",
       "      <td>-0.689654</td>\n",
       "      <td>0.912231</td>\n",
       "    </tr>\n",
       "    <tr>\n",
       "      <th>50%</th>\n",
       "      <td>1454.300049</td>\n",
       "      <td>1466.900024</td>\n",
       "      <td>1442.500000</td>\n",
       "      <td>1454.400024</td>\n",
       "      <td>1446.432251</td>\n",
       "      <td>6.435398e+06</td>\n",
       "      <td>0.066094</td>\n",
       "      <td>0.959778</td>\n",
       "    </tr>\n",
       "    <tr>\n",
       "      <th>75%</th>\n",
       "      <td>1502.000000</td>\n",
       "      <td>1518.800049</td>\n",
       "      <td>1492.099976</td>\n",
       "      <td>1506.000000</td>\n",
       "      <td>1496.154175</td>\n",
       "      <td>8.871571e+06</td>\n",
       "      <td>0.804881</td>\n",
       "      <td>0.993830</td>\n",
       "    </tr>\n",
       "    <tr>\n",
       "      <th>max</th>\n",
       "      <td>1666.699951</td>\n",
       "      <td>1722.099976</td>\n",
       "      <td>1613.900024</td>\n",
       "      <td>1656.800049</td>\n",
       "      <td>1637.757813</td>\n",
       "      <td>4.872548e+07</td>\n",
       "      <td>4.860763</td>\n",
       "      <td>1.093345</td>\n",
       "    </tr>\n",
       "  </tbody>\n",
       "</table>\n",
       "</div>"
      ],
      "text/plain": [
       "              Open         High          Low        Close    Adj Close  \\\n",
       "count   249.000000   249.000000   249.000000   249.000000   249.000000   \n",
       "mean   1445.140766  1459.939356  1431.471090  1446.357033  1438.422292   \n",
       "std      77.504683    78.687756    76.499935    77.229590    74.978336   \n",
       "min    1275.000000  1296.400024  1271.599976  1281.300049  1281.300049   \n",
       "25%    1380.349976  1398.000000  1362.900024  1382.349976  1378.449951   \n",
       "50%    1454.300049  1466.900024  1442.500000  1454.400024  1446.432251   \n",
       "75%    1502.000000  1518.800049  1492.099976  1506.000000  1496.154175   \n",
       "max    1666.699951  1722.099976  1613.900024  1656.800049  1637.757813   \n",
       "\n",
       "             Volume  daily_pct_chg  Normalized  \n",
       "count  2.490000e+02     249.000000  249.000000  \n",
       "mean   7.866505e+06       0.092963    0.954471  \n",
       "std    5.171045e+06       1.217547    0.050965  \n",
       "min    4.117440e+05      -3.506927    0.845547  \n",
       "25%    5.161071e+06      -0.689654    0.912231  \n",
       "50%    6.435398e+06       0.066094    0.959778  \n",
       "75%    8.871571e+06       0.804881    0.993830  \n",
       "max    4.872548e+07       4.860763    1.093345  "
      ]
     },
     "execution_count": 57,
     "metadata": {},
     "output_type": "execute_result"
    }
   ],
   "source": [
    "hdfc.describe()\n",
    "#this describe function is very useful in getting the total decribtion of the dataframe \n",
    "# thats why it is known as .describe function as u can see the output u almost comes \n",
    "# to get everything the max, min, std, mean no of rows ."
   ]
  },
  {
   "cell_type": "code",
   "execution_count": 58,
   "id": "2ef951cf",
   "metadata": {},
   "outputs": [],
   "source": [
    "#what if you need to get the min value from the close column"
   ]
  },
  {
   "cell_type": "code",
   "execution_count": 60,
   "id": "72986b69",
   "metadata": {},
   "outputs": [
    {
     "data": {
      "text/plain": [
       "1281.300049"
      ]
     },
     "execution_count": 60,
     "metadata": {},
     "output_type": "execute_result"
    }
   ],
   "source": [
    "hdfc['Close'].min()\n",
    "#.min fucntion returns you the min value from the column that u have selected from the dataframe"
   ]
  },
  {
   "cell_type": "code",
   "execution_count": 63,
   "id": "017d645e",
   "metadata": {},
   "outputs": [],
   "source": [
    "#another question on what date was the min value of stock"
   ]
  },
  {
   "cell_type": "code",
   "execution_count": 64,
   "id": "e3f798d4",
   "metadata": {},
   "outputs": [
    {
     "data": {
      "text/plain": [
       "142"
      ]
     },
     "execution_count": 64,
     "metadata": {},
     "output_type": "execute_result"
    }
   ],
   "source": [
    "hdfc['Close'].argmin()\n",
    "#this returns the index which has the minimun value "
   ]
  },
  {
   "cell_type": "code",
   "execution_count": 65,
   "id": "f84bb874",
   "metadata": {},
   "outputs": [
    {
     "data": {
      "text/plain": [
       "1281.300049"
      ]
     },
     "execution_count": 65,
     "metadata": {},
     "output_type": "execute_result"
    }
   ],
   "source": [
    "hdfc['Close'].iloc[142]\n",
    "#cross check with the above describe function and it show excat same minium value in the dataframe"
   ]
  },
  {
   "cell_type": "code",
   "execution_count": 66,
   "id": "1c2285dc",
   "metadata": {},
   "outputs": [
    {
     "data": {
      "text/plain": [
       "142"
      ]
     },
     "execution_count": 66,
     "metadata": {},
     "output_type": "execute_result"
    }
   ],
   "source": [
    "hdfc['Normalized'].argmin()\n"
   ]
  },
  {
   "cell_type": "code",
   "execution_count": 61,
   "id": "367040c7",
   "metadata": {},
   "outputs": [],
   "source": [
    "#what if you need to get the min value of whole dataframe "
   ]
  },
  {
   "cell_type": "code",
   "execution_count": 62,
   "id": "56daa083",
   "metadata": {},
   "outputs": [
    {
     "data": {
      "text/plain": [
       "Open               1275.000000\n",
       "High               1296.400024\n",
       "Low                1271.599976\n",
       "Close              1281.300049\n",
       "Adj Close          1281.300049\n",
       "Volume           411744.000000\n",
       "daily_pct_chg        -3.506927\n",
       "Normalized            0.845547\n",
       "dtype: float64"
      ]
     },
     "execution_count": 62,
     "metadata": {},
     "output_type": "execute_result"
    }
   ],
   "source": [
    "hdfc.min()\n",
    "#this return the minimum value of the whole dataframe"
   ]
  },
  {
   "cell_type": "code",
   "execution_count": 67,
   "id": "45ca84ee",
   "metadata": {},
   "outputs": [],
   "source": [
    "# and its similar to get the max value from the dataframe"
   ]
  },
  {
   "cell_type": "code",
   "execution_count": 68,
   "id": "765f6be2",
   "metadata": {},
   "outputs": [
    {
     "data": {
      "text/plain": [
       "Open             1.666700e+03\n",
       "High             1.722100e+03\n",
       "Low              1.613900e+03\n",
       "Close            1.656800e+03\n",
       "Adj Close        1.637758e+03\n",
       "Volume           4.872548e+07\n",
       "daily_pct_chg    4.860763e+00\n",
       "Normalized       1.093345e+00\n",
       "dtype: float64"
      ]
     },
     "execution_count": 68,
     "metadata": {},
     "output_type": "execute_result"
    }
   ],
   "source": [
    "hdfc.max()"
   ]
  },
  {
   "cell_type": "code",
   "execution_count": 69,
   "id": "1da41362",
   "metadata": {},
   "outputs": [
    {
     "data": {
      "text/plain": [
       "1666.699951"
      ]
     },
     "execution_count": 69,
     "metadata": {},
     "output_type": "execute_result"
    }
   ],
   "source": [
    "hdfc['Open'].max()\n",
    "#it return the max value from the open column."
   ]
  },
  {
   "cell_type": "code",
   "execution_count": 70,
   "id": "acf50ba3",
   "metadata": {},
   "outputs": [
    {
     "data": {
      "text/plain": [
       "93"
      ]
     },
     "execution_count": 70,
     "metadata": {},
     "output_type": "execute_result"
    }
   ],
   "source": [
    "hdfc['Open'].argmax()#similer to the earlier what we did to get the min value"
   ]
  },
  {
   "cell_type": "code",
   "execution_count": 71,
   "id": "52377401",
   "metadata": {},
   "outputs": [
    {
     "data": {
      "text/plain": [
       "1666.699951"
      ]
     },
     "execution_count": 71,
     "metadata": {},
     "output_type": "execute_result"
    }
   ],
   "source": [
    "hdfc['Open'].iloc[93]"
   ]
  },
  {
   "cell_type": "code",
   "execution_count": 73,
   "id": "80ebf1bf",
   "metadata": {},
   "outputs": [],
   "source": [
    "#dropping a column from the dataframe\n"
   ]
  },
  {
   "cell_type": "code",
   "execution_count": 74,
   "id": "1068f976",
   "metadata": {},
   "outputs": [],
   "source": [
    "hdfc.drop(['daily_pct_chg'],axis=1,inplace=True)\n",
    "#daily_pct_chg column from the hdfc data frame has been drop ,axis =1 is for the colummn\n",
    "# and inplace=true will make the change permenant"
   ]
  },
  {
   "cell_type": "code",
   "execution_count": 75,
   "id": "292a7baa",
   "metadata": {},
   "outputs": [
    {
     "data": {
      "text/html": [
       "<div>\n",
       "<style scoped>\n",
       "    .dataframe tbody tr th:only-of-type {\n",
       "        vertical-align: middle;\n",
       "    }\n",
       "\n",
       "    .dataframe tbody tr th {\n",
       "        vertical-align: top;\n",
       "    }\n",
       "\n",
       "    .dataframe thead th {\n",
       "        text-align: right;\n",
       "    }\n",
       "</style>\n",
       "<table border=\"1\" class=\"dataframe\">\n",
       "  <thead>\n",
       "    <tr style=\"text-align: right;\">\n",
       "      <th></th>\n",
       "      <th>Open</th>\n",
       "      <th>High</th>\n",
       "      <th>Low</th>\n",
       "      <th>Close</th>\n",
       "      <th>Adj Close</th>\n",
       "      <th>Volume</th>\n",
       "      <th>Normalized</th>\n",
       "    </tr>\n",
       "    <tr>\n",
       "      <th>Date</th>\n",
       "      <th></th>\n",
       "      <th></th>\n",
       "      <th></th>\n",
       "      <th></th>\n",
       "      <th></th>\n",
       "      <th></th>\n",
       "      <th></th>\n",
       "    </tr>\n",
       "  </thead>\n",
       "  <tbody>\n",
       "    <tr>\n",
       "      <th>2021-11-22</th>\n",
       "      <td>1546.000000</td>\n",
       "      <td>1552.699951</td>\n",
       "      <td>1499.050049</td>\n",
       "      <td>1515.349976</td>\n",
       "      <td>1497.933472</td>\n",
       "      <td>7630636</td>\n",
       "      <td>1.000000</td>\n",
       "    </tr>\n",
       "    <tr>\n",
       "      <th>2021-11-23</th>\n",
       "      <td>1502.000000</td>\n",
       "      <td>1527.800049</td>\n",
       "      <td>1496.349976</td>\n",
       "      <td>1515.550049</td>\n",
       "      <td>1498.131226</td>\n",
       "      <td>5617607</td>\n",
       "      <td>1.000132</td>\n",
       "    </tr>\n",
       "    <tr>\n",
       "      <th>2021-11-24</th>\n",
       "      <td>1524.000000</td>\n",
       "      <td>1536.349976</td>\n",
       "      <td>1514.050049</td>\n",
       "      <td>1518.050049</td>\n",
       "      <td>1500.602539</td>\n",
       "      <td>15401143</td>\n",
       "      <td>1.001782</td>\n",
       "    </tr>\n",
       "    <tr>\n",
       "      <th>2021-11-25</th>\n",
       "      <td>1514.800049</td>\n",
       "      <td>1533.300049</td>\n",
       "      <td>1507.000000</td>\n",
       "      <td>1525.949951</td>\n",
       "      <td>1508.411621</td>\n",
       "      <td>5125826</td>\n",
       "      <td>1.006995</td>\n",
       "    </tr>\n",
       "    <tr>\n",
       "      <th>2021-11-26</th>\n",
       "      <td>1500.000000</td>\n",
       "      <td>1506.699951</td>\n",
       "      <td>1485.000000</td>\n",
       "      <td>1489.900024</td>\n",
       "      <td>1472.776001</td>\n",
       "      <td>9312468</td>\n",
       "      <td>0.983205</td>\n",
       "    </tr>\n",
       "    <tr>\n",
       "      <th>...</th>\n",
       "      <td>...</td>\n",
       "      <td>...</td>\n",
       "      <td>...</td>\n",
       "      <td>...</td>\n",
       "      <td>...</td>\n",
       "      <td>...</td>\n",
       "      <td>...</td>\n",
       "    </tr>\n",
       "    <tr>\n",
       "      <th>2022-11-15</th>\n",
       "      <td>1623.150024</td>\n",
       "      <td>1623.150024</td>\n",
       "      <td>1605.250000</td>\n",
       "      <td>1619.000000</td>\n",
       "      <td>1619.000000</td>\n",
       "      <td>5515101</td>\n",
       "      <td>1.068400</td>\n",
       "    </tr>\n",
       "    <tr>\n",
       "      <th>2022-11-16</th>\n",
       "      <td>1618.650024</td>\n",
       "      <td>1642.000000</td>\n",
       "      <td>1612.000000</td>\n",
       "      <td>1632.900024</td>\n",
       "      <td>1632.900024</td>\n",
       "      <td>6789075</td>\n",
       "      <td>1.077573</td>\n",
       "    </tr>\n",
       "    <tr>\n",
       "      <th>2022-11-17</th>\n",
       "      <td>1618.099976</td>\n",
       "      <td>1631.550049</td>\n",
       "      <td>1613.900024</td>\n",
       "      <td>1618.150024</td>\n",
       "      <td>1618.150024</td>\n",
       "      <td>6050465</td>\n",
       "      <td>1.067839</td>\n",
       "    </tr>\n",
       "    <tr>\n",
       "      <th>2022-11-18</th>\n",
       "      <td>1621.000000</td>\n",
       "      <td>1623.000000</td>\n",
       "      <td>1605.250000</td>\n",
       "      <td>1613.900024</td>\n",
       "      <td>1613.900024</td>\n",
       "      <td>5229616</td>\n",
       "      <td>1.065035</td>\n",
       "    </tr>\n",
       "    <tr>\n",
       "      <th>2022-11-21</th>\n",
       "      <td>1607.650024</td>\n",
       "      <td>1612.000000</td>\n",
       "      <td>1601.000000</td>\n",
       "      <td>1601.250000</td>\n",
       "      <td>1601.250000</td>\n",
       "      <td>411744</td>\n",
       "      <td>1.056687</td>\n",
       "    </tr>\n",
       "  </tbody>\n",
       "</table>\n",
       "<p>249 rows × 7 columns</p>\n",
       "</div>"
      ],
      "text/plain": [
       "                   Open         High          Low        Close    Adj Close  \\\n",
       "Date                                                                          \n",
       "2021-11-22  1546.000000  1552.699951  1499.050049  1515.349976  1497.933472   \n",
       "2021-11-23  1502.000000  1527.800049  1496.349976  1515.550049  1498.131226   \n",
       "2021-11-24  1524.000000  1536.349976  1514.050049  1518.050049  1500.602539   \n",
       "2021-11-25  1514.800049  1533.300049  1507.000000  1525.949951  1508.411621   \n",
       "2021-11-26  1500.000000  1506.699951  1485.000000  1489.900024  1472.776001   \n",
       "...                 ...          ...          ...          ...          ...   \n",
       "2022-11-15  1623.150024  1623.150024  1605.250000  1619.000000  1619.000000   \n",
       "2022-11-16  1618.650024  1642.000000  1612.000000  1632.900024  1632.900024   \n",
       "2022-11-17  1618.099976  1631.550049  1613.900024  1618.150024  1618.150024   \n",
       "2022-11-18  1621.000000  1623.000000  1605.250000  1613.900024  1613.900024   \n",
       "2022-11-21  1607.650024  1612.000000  1601.000000  1601.250000  1601.250000   \n",
       "\n",
       "              Volume  Normalized  \n",
       "Date                              \n",
       "2021-11-22   7630636    1.000000  \n",
       "2021-11-23   5617607    1.000132  \n",
       "2021-11-24  15401143    1.001782  \n",
       "2021-11-25   5125826    1.006995  \n",
       "2021-11-26   9312468    0.983205  \n",
       "...              ...         ...  \n",
       "2022-11-15   5515101    1.068400  \n",
       "2022-11-16   6789075    1.077573  \n",
       "2022-11-17   6050465    1.067839  \n",
       "2022-11-18   5229616    1.065035  \n",
       "2022-11-21    411744    1.056687  \n",
       "\n",
       "[249 rows x 7 columns]"
      ]
     },
     "execution_count": 75,
     "metadata": {},
     "output_type": "execute_result"
    }
   ],
   "source": [
    "hdfc"
   ]
  },
  {
   "cell_type": "code",
   "execution_count": 76,
   "id": "07d563b2",
   "metadata": {},
   "outputs": [
    {
     "data": {
      "text/plain": [
       "1446.357032650603"
      ]
     },
     "execution_count": 76,
     "metadata": {},
     "output_type": "execute_result"
    }
   ],
   "source": [
    "#finding a mean value form the column\n",
    "hdfc['Close'].mean()\n",
    "#.mean() function returns a mean value form the selected column of the dataframe"
   ]
  },
  {
   "cell_type": "code",
   "execution_count": null,
   "id": "2b93aceb",
   "metadata": {},
   "outputs": [],
   "source": []
  }
 ],
 "metadata": {
  "kernelspec": {
   "display_name": "Python 3 (ipykernel)",
   "language": "python",
   "name": "python3"
  },
  "language_info": {
   "codemirror_mode": {
    "name": "ipython",
    "version": 3
   },
   "file_extension": ".py",
   "mimetype": "text/x-python",
   "name": "python",
   "nbconvert_exporter": "python",
   "pygments_lexer": "ipython3",
   "version": "3.9.12"
  }
 },
 "nbformat": 4,
 "nbformat_minor": 5
}
